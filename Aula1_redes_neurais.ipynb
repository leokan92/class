{
  "nbformat": 4,
  "nbformat_minor": 0,
  "metadata": {
    "colab": {
      "provenance": [],
      "authorship_tag": "ABX9TyNtEZd5x2+DbzZLmanVe0Tv",
      "include_colab_link": true
    },
    "kernelspec": {
      "name": "python3",
      "display_name": "Python 3"
    },
    "language_info": {
      "name": "python"
    }
  },
  "cells": [
    {
      "cell_type": "markdown",
      "metadata": {
        "id": "view-in-github",
        "colab_type": "text"
      },
      "source": [
        "<a href=\"https://colab.research.google.com/github/leokan92/class/blob/main/Aula1_redes_neurais.ipynb\" target=\"_parent\"><img src=\"https://colab.research.google.com/assets/colab-badge.svg\" alt=\"Open In Colab\"/></a>"
      ]
    },
    {
      "cell_type": "markdown",
      "source": [
        "#Aula 1 - Redes Neurais Artificiais: Exemplo simples"
      ],
      "metadata": {
        "id": "C9p9r12EEmdT"
      }
    },
    {
      "cell_type": "markdown",
      "source": [
        "## Importando bibliotecas necessárias"
      ],
      "metadata": {
        "id": "X89AdOM8J3wc"
      }
    },
    {
      "cell_type": "code",
      "source": [
        "# Importa as bibliotecas necessárias\n",
        "import torch\n",
        "import torch.nn as nn\n",
        "import torch.optim as optim\n",
        "from torch.utils.data import DataLoader, TensorDataset, random_split\n",
        "import numpy as np\n",
        "import matplotlib.pyplot as plt"
      ],
      "metadata": {
        "id": "7wVYq1kCJsbh"
      },
      "execution_count": 20,
      "outputs": []
    },
    {
      "cell_type": "code",
      "source": [
        "\n",
        "import torch\n",
        "import torch.nn as nn\n",
        "import torch.optim as optim\n",
        "\n",
        "# Define a simple neural network with only one layer\n",
        "class SimpleNeuralNetwork(nn.Module):\n",
        "    def __init__(self):\n",
        "        super(SimpleNeuralNetwork, self).__init__()\n",
        "        # Input to output layer linear transformation\n",
        "        self.layer = nn.Linear(2, 1)  # 2 inputs -> 1 output\n",
        "\n",
        "    def forward(self, x):\n",
        "        # Forward pass through the layer (no activation function)\n",
        "        x = self.layer(x)\n",
        "        return x\n",
        "\n",
        "# Create an instance of the simple neural network\n",
        "net = SimpleNeuralNetwork()\n",
        "\n",
        "# Define a loss function and optimizer\n",
        "criterion = nn.MSELoss()  # Mean squared error loss\n",
        "optimizer = optim.SGD(net.parameters(), lr=0.01)  # Stochastic Gradient Descent with a higher learning rate\n",
        "\n",
        "# Example input data (2 features) and target (expected output)\n",
        "inputs = torch.tensor([[1.0, 2.0], [2.0, 3.0], [3.0, 4.0]])  # 3 samples, 2 features\n",
        "targets = torch.tensor([[10.0], [15.0], [20.0]])  # Corresponding targets\n"
      ],
      "metadata": {
        "id": "IrYZb_z7vMSk"
      },
      "execution_count": 7,
      "outputs": []
    },
    {
      "cell_type": "code",
      "source": [
        "\n",
        "# Step 1: Forward pass (compute predictions)\n",
        "outputs = net(inputs)\n",
        "print(\"Outputs before training: \", outputs)\n",
        "\n",
        "# Step 2: Compute loss (how far predictions are from the target)\n",
        "loss = criterion(outputs, targets)\n",
        "print(\"Loss before backpropagation: \", loss.item())\n",
        "\n",
        "# Step 3: Perform backpropagation to compute gradients\n",
        "\n",
        "loss.backward()  # Compute gradients\n",
        "print(\"==========================\")\n",
        "# Step 4: Print gradients and weights before the update\n",
        "print(\"\\nWeights and gradients before update:\")\n",
        "for name, param in net.named_parameters():\n",
        "    print(f\"{name} weights before update:\\n{param.data}\")\n",
        "    print(f\"{name} gradients:\\n{param.grad}\")\n",
        "\n",
        "print(\"==========================\")\n",
        "\n",
        "# Step 5: Update the weights using the optimizer\n",
        "optimizer.step()\n",
        "\n",
        "# Step 6: Print weights after the update\n",
        "print(\"\\nWeights after update:\")\n",
        "for name, param in net.named_parameters():\n",
        "    print(f\"{name} weights after update:\\n{param.data}\")\n",
        "print(\"==========================\")\n",
        "# Step 7: Forward pass again to see the new outputs after the weight update\n",
        "outputs = net(inputs)\n",
        "print(\"\\nOutputs after weight update: \", outputs)\n",
        "\n",
        "# Step 8: Compute loss (how far predictions are from the target)\n",
        "loss = criterion(outputs, targets)\n",
        "print(\"Loss after backpropagation: \", loss.item())\n",
        "\n"
      ],
      "metadata": {
        "colab": {
          "base_uri": "https://localhost:8080/"
        },
        "id": "4BzgiG3rqyP1",
        "outputId": "9507656c-9c1e-4f5a-e7ed-7caee2712456"
      },
      "execution_count": 17,
      "outputs": [
        {
          "output_type": "stream",
          "name": "stdout",
          "text": [
            "Outputs before training:  tensor([[4.1009],\n",
            "        [6.5141],\n",
            "        [8.9273]], grad_fn=<AddmmBackward0>)\n",
            "Loss before backpropagation:  76.47188568115234\n",
            "==========================\n",
            "\n",
            "Weights and gradients before update:\n",
            "layer.weight weights before update:\n",
            "tensor([[1.0357, 1.3775]])\n",
            "layer.weight gradients:\n",
            "tensor([[ 79.7894, 112.3579]])\n",
            "layer.bias weights before update:\n",
            "tensor([0.3101])\n",
            "layer.bias gradients:\n",
            "tensor([32.5685])\n",
            "==========================\n",
            "\n",
            "Weights after update:\n",
            "layer.weight weights after update:\n",
            "tensor([[0.2378, 0.2539]])\n",
            "layer.bias weights after update:\n",
            "tensor([-0.0155])\n",
            "==========================\n",
            "\n",
            "Outputs after weight update:  tensor([[0.7301],\n",
            "        [1.2219],\n",
            "        [1.7136]], grad_fn=<AddmmBackward0>)\n",
            "Loss after backpropagation:  203.3865966796875\n"
          ]
        }
      ]
    },
    {
      "cell_type": "code",
      "source": [
        "import torch\n",
        "import torch.nn as nn\n",
        "import torch.optim as optim\n",
        "\n",
        "# Define a simple neural network with 3 layers\n",
        "class MultiLayerNeuralNetwork(nn.Module):\n",
        "    def __init__(self):\n",
        "        super(MultiLayerNeuralNetwork, self).__init__()\n",
        "        # Input to first hidden layer\n",
        "        self.layer1 = nn.Linear(2, 3)  # 2 inputs -> 3 hidden neurons\n",
        "        # First hidden to second hidden layer\n",
        "        self.layer2 = nn.Linear(3, 2)  # 3 hidden neurons -> 2 hidden neurons\n",
        "        # Second hidden to output layer\n",
        "        self.layer3 = nn.Linear(2, 1)  # 2 hidden neurons -> 1 output\n",
        "\n",
        "    def forward(self, x):\n",
        "        # Forward pass with ReLU activations\n",
        "        x = torch.relu(self.layer1(x))  # Activation after layer1\n",
        "        x = torch.relu(self.layer2(x))  # Activation after layer2\n",
        "        x = self.layer3(x)  # No activation in the output layer (for simplicity)\n",
        "        return x\n",
        "\n",
        "# Create an instance of the neural network\n",
        "net = MultiLayerNeuralNetwork()\n",
        "\n",
        "# Define a loss function and optimizer\n",
        "criterion = nn.MSELoss()  # Mean squared error loss\n",
        "optimizer = optim.SGD(net.parameters(), lr=0.01)  # Stochastic Gradient Descent\n",
        "\n",
        "# Example input data (2 features) and target (expected output)\n",
        "inputs = torch.tensor([[1.0, 2.0], [2.0, 3.0], [3.0, 4.0]], requires_grad=True)  # 3 samples, 2 features\n",
        "targets = torch.tensor([[10.0], [15.0], [20.0]])  # Corresponding targets\n",
        "\n",
        "# Step 1: Forward pass (compute predictions)\n",
        "outputs = net(inputs)\n",
        "print(\"Outputs before training: \", outputs)\n",
        "\n",
        "# Step 2: Compute loss (how far predictions are from the target)\n",
        "loss = criterion(outputs, targets)\n",
        "print(\"Loss before backpropagation: \", loss.item())\n",
        "\n",
        "# Step 3: Perform backpropagation to compute gradients\n",
        "optimizer.zero_grad()  # Clear the previous gradients\n",
        "loss.backward()  # Compute gradients\n",
        "\n",
        "# Step 4: Print gradients and weights before the update\n",
        "print(\"\\nWeights and gradients before update:\")\n",
        "for name, param in net.named_parameters():\n",
        "    print(f\"{name} weights before update:\\n{param.data}\")\n",
        "    print(f\"{name} gradients:\\n{param.grad}\")\n",
        "\n",
        "# Step 5: Partial derivatives of the activations (ReLU derivatives)\n",
        "# ReLU derivative is 1 for x > 0 and 0 for x <= 0\n",
        "print(\"\\nPartial derivatives of activations (ReLU) during backpropagation:\")\n",
        "with torch.no_grad():\n",
        "    # Recompute the activations manually for understanding ReLU derivatives\n",
        "    layer1_output = torch.relu(net.layer1(inputs))\n",
        "    layer2_output = torch.relu(net.layer2(layer1_output))\n",
        "\n",
        "    print(\"Layer 1 ReLU activations:\\n\", layer1_output)\n",
        "    print(\"Layer 1 ReLU derivatives:\\n\", (layer1_output > 0).float())\n",
        "\n",
        "    print(\"Layer 2 ReLU activations:\\n\", layer2_output)\n",
        "    print(\"Layer 2 ReLU derivatives:\\n\", (layer2_output > 0).float())\n",
        "\n",
        "# Step 6: Update the weights using the optimizer\n",
        "optimizer.step()\n",
        "\n",
        "# Step 7: Print weights after the update\n",
        "print(\"\\nWeights after update:\")\n",
        "for name, param in net.named_parameters():\n",
        "    print(f\"{name} weights after update:\\n{param.data}\")\n",
        "\n",
        "# Step 8: Forward pass again to see the new outputs after the weight update\n",
        "outputs = net(inputs)\n",
        "print(\"\\nOutputs after weight update: \", outputs)\n"
      ],
      "metadata": {
        "colab": {
          "base_uri": "https://localhost:8080/"
        },
        "id": "pAZD29YqOarF",
        "outputId": "76bf9292-12b2-4064-afce-4b02bb997ac9"
      },
      "execution_count": 18,
      "outputs": [
        {
          "output_type": "stream",
          "name": "stdout",
          "text": [
            "Outputs before training:  tensor([[0.2396],\n",
            "        [0.2349],\n",
            "        [0.2053]], grad_fn=<AddmmBackward0>)\n",
            "Loss before backpropagation:  235.03428649902344\n",
            "\n",
            "Weights and gradients before update:\n",
            "layer1.weight weights before update:\n",
            "tensor([[-0.1313, -0.6881],\n",
            "        [ 0.0513, -0.6873],\n",
            "        [ 0.1682,  0.4468]])\n",
            "layer1.weight gradients:\n",
            "tensor([[0.0000, 0.0000],\n",
            "        [0.0000, 0.0000],\n",
            "        [2.6957, 3.6469]])\n",
            "layer1.bias weights before update:\n",
            "tensor([-0.1092,  0.5029,  0.1298])\n",
            "layer1.bias gradients:\n",
            "tensor([0.0000, 0.0000, 0.9512])\n",
            "layer2.weight weights before update:\n",
            "tensor([[-0.1540, -0.0305, -0.3121],\n",
            "        [ 0.1176, -0.5181,  0.1930]])\n",
            "layer2.weight gradients:\n",
            "tensor([[ 0.0000,  0.0000,  1.7998],\n",
            "        [ 0.0000,  0.0000, 14.3454]])\n",
            "layer2.bias weights before update:\n",
            "tensor([0.4795, 0.5056])\n",
            "layer2.bias gradients:\n",
            "tensor([1.5103, 7.3718])\n",
            "layer3.weight weights before update:\n",
            "tensor([[-0.2321, -0.2495]])\n",
            "layer3.weight gradients:\n",
            "tensor([[ -0.7005, -26.0332]])\n",
            "layer3.bias weights before update:\n",
            "tensor([0.4481])\n",
            "layer3.bias gradients:\n",
            "tensor([-29.5468])\n",
            "\n",
            "Partial derivatives of activations (ReLU) during backpropagation:\n",
            "Layer 1 ReLU activations:\n",
            " tensor([[0.0000, 0.0000, 1.1917],\n",
            "        [0.0000, 0.0000, 1.8067],\n",
            "        [0.0000, 0.0000, 2.4218]])\n",
            "Layer 1 ReLU derivatives:\n",
            " tensor([[0., 0., 1.],\n",
            "        [0., 0., 1.],\n",
            "        [0., 0., 1.]])\n",
            "Layer 2 ReLU activations:\n",
            " tensor([[0.1076, 0.7355],\n",
            "        [0.0000, 0.8542],\n",
            "        [0.0000, 0.9729]])\n",
            "Layer 2 ReLU derivatives:\n",
            " tensor([[1., 1.],\n",
            "        [0., 1.],\n",
            "        [0., 1.]])\n",
            "\n",
            "Weights after update:\n",
            "layer1.weight weights after update:\n",
            "tensor([[-0.1313, -0.6881],\n",
            "        [ 0.0513, -0.6873],\n",
            "        [ 0.1413,  0.4104]])\n",
            "layer1.bias weights after update:\n",
            "tensor([-0.1092,  0.5029,  0.1203])\n",
            "layer2.weight weights after update:\n",
            "tensor([[-0.1540, -0.0305, -0.3301],\n",
            "        [ 0.1176, -0.5181,  0.0495]])\n",
            "layer2.bias weights after update:\n",
            "tensor([0.4644, 0.4319])\n",
            "layer3.weight weights after update:\n",
            "tensor([[-0.2251,  0.0108]])\n",
            "layer3.bias weights after update:\n",
            "tensor([0.7435])\n",
            "\n",
            "Outputs after weight update:  tensor([[0.7246],\n",
            "        [0.7491],\n",
            "        [0.7494]], grad_fn=<AddmmBackward0>)\n"
          ]
        }
      ]
    },
    {
      "cell_type": "markdown",
      "source": [
        "#Implementação completa"
      ],
      "metadata": {
        "id": "cPneDwGZqc6B"
      }
    },
    {
      "cell_type": "markdown",
      "source": [
        "## Gerando dados de treino e teste"
      ],
      "metadata": {
        "id": "YQMEhu5JJ8l7"
      }
    },
    {
      "cell_type": "code",
      "source": [
        "# Gera dados sintéticos baseados em uma função não-linear com ruído\n",
        "x = torch.unsqueeze(torch.linspace(-1, 1, 100), dim=1)\n",
        "y = x.pow(3) + 0.3*torch.rand(x.size())\n",
        "\n",
        "# Converte os arrays numpy para tensores PyTorch\n",
        "x_tensor = torch.FloatTensor(x)\n",
        "y_tensor = torch.FloatTensor(y)\n",
        "\n",
        "# Divide o conjunto de dados em conjuntos de treinamento e teste (80:20)\n",
        "dataset = TensorDataset(x_tensor, y_tensor)\n",
        "tamanho_treino = int(0.8 * len(dataset))\n",
        "tamanho_teste = len(dataset) - tamanho_treino\n",
        "conjunto_treino, conjunto_teste = random_split(dataset, [tamanho_treino, tamanho_teste])\n",
        "\n",
        "# DataLoader pode nos ajudar a usar treinamento baseado em lotes, mas para este exemplo vamos usar todo o conjunto de dados em um lote\n",
        "train_loader = DataLoader(dataset=conjunto_treino, batch_size=tamanho_treino)\n",
        "test_loader = DataLoader(dataset=conjunto_teste, batch_size=tamanho_teste)\n"
      ],
      "metadata": {
        "id": "nWjL5J73KKCE"
      },
      "execution_count": 21,
      "outputs": []
    },
    {
      "cell_type": "markdown",
      "source": [
        "# Definindo arquitetura da rede neural\n"
      ],
      "metadata": {
        "id": "-qhY1qzFKKvb"
      }
    },
    {
      "cell_type": "code",
      "source": [
        "# Define o modelo MLP\n",
        "class MLP(nn.Module):\n",
        "    def __init__(self, input_dim, hidden_dim, output_dim):\n",
        "        super(MLP, self).__init__()\n",
        "        self.fc1 = nn.Linear(input_dim, hidden_dim)\n",
        "        self.fc2 = nn.Linear(hidden_dim, output_dim)\n",
        "\n",
        "    def forward(self, x):\n",
        "        x = torch.relu(self.fc1(x)) # Aqui está a utilização da função de ativação (neste caso ReLU)\n",
        "        x = self.fc2(x)\n",
        "        return x\n",
        "\n",
        "input_dim = 1\n",
        "hidden_dim = 10\n",
        "output_dim = 1\n",
        "model = MLP(input_dim, hidden_dim, output_dim)"
      ],
      "metadata": {
        "id": "l_Za0795KQML"
      },
      "execution_count": 25,
      "outputs": []
    },
    {
      "cell_type": "markdown",
      "source": [
        "## Modelo Linear para comparação\n",
        "\n",
        "Simplesmente utilizamos uma rede neural sem camadas ocultas"
      ],
      "metadata": {
        "id": "XXa8rBiLKwb3"
      }
    },
    {
      "cell_type": "code",
      "source": [
        "# Define o modelo de Regressão Linear\n",
        "linear_model = nn.Linear(input_dim, output_dim)"
      ],
      "metadata": {
        "id": "Z3x37WrnKmxm"
      },
      "execution_count": 26,
      "outputs": []
    },
    {
      "cell_type": "markdown",
      "source": [
        "# Definição da função de custo (ou perda) e otimizador"
      ],
      "metadata": {
        "id": "juE432v9K43Z"
      }
    },
    {
      "cell_type": "code",
      "source": [
        "# Função de perda e otimizador\n",
        "criterion = nn.MSELoss()\n",
        "otimizador_mlp = optim.SGD(model.parameters(), lr=0.01)\n",
        "otimizador_linear = optim.SGD(linear_model.parameters(), lr=0.01)\n"
      ],
      "metadata": {
        "id": "b8S4PWXkK8v8"
      },
      "execution_count": 27,
      "outputs": []
    },
    {
      "cell_type": "markdown",
      "source": [
        "## Treino dos modelos"
      ],
      "metadata": {
        "id": "FNbhGKNDLICn"
      }
    },
    {
      "cell_type": "code",
      "source": [
        "# Lista para armazenar as perdas\n",
        "historico_perda_mlp = []\n",
        "historico_perda_linear = []\n",
        "\n",
        "# Treinamento do MLP\n",
        "num_epochs = 100\n",
        "for epoch in range(num_epochs):\n",
        "    for batch_x, batch_y in train_loader:\n",
        "        # Passo forward\n",
        "        outputs = model(batch_x)\n",
        "        loss = criterion(outputs, batch_y)\n",
        "\n",
        "        # Passo backward e otimização\n",
        "        otimizador_mlp.zero_grad()\n",
        "        loss.backward()\n",
        "        otimizador_mlp.step()\n",
        "\n",
        "    # Adiciona a perda atual ao histórico\n",
        "    historico_perda_mlp.append(loss.item())\n",
        "\n",
        "# Treinamento do modelo de Regressão Linear\n",
        "for epoch in range(num_epochs):\n",
        "    for batch_x, batch_y in train_loader:\n",
        "        outputs = linear_model(batch_x)\n",
        "        loss = criterion(outputs, batch_y)\n",
        "\n",
        "        otimizador_linear.zero_grad()\n",
        "        loss.backward()\n",
        "        otimizador_linear.step()\n",
        "\n",
        "    # Adiciona a perda atual ao histórico\n",
        "    historico_perda_linear.append(loss.item())"
      ],
      "metadata": {
        "id": "FZ2tyzsSLHJk"
      },
      "execution_count": 28,
      "outputs": []
    },
    {
      "cell_type": "markdown",
      "source": [
        "## Avaliando Resultados"
      ],
      "metadata": {
        "id": "z0K_p65GL2TH"
      }
    },
    {
      "cell_type": "code",
      "source": [
        "# Testa os modelos\n",
        "model.eval()\n",
        "linear_model.eval()\n",
        "\n",
        "with torch.no_grad():\n",
        "    previsoes_mlp = model(x_tensor)\n",
        "    previsoes_linear = linear_model(x_tensor)\n",
        "\n",
        "# Calcula a perda de teste para ambos os modelos\n",
        "perda_mlp = criterion(previsoes_mlp[tamanho_teste:], y_tensor[tamanho_teste:])\n",
        "perda_linear = criterion(previsoes_linear[tamanho_teste:], y_tensor[tamanho_teste:])\n",
        "\n",
        "print(f\"Perda de Teste do MLP: {perda_mlp.item()}\")\n",
        "print(f\"Perda de Teste da Regressão Linear: {perda_linear.item()}\")"
      ],
      "metadata": {
        "colab": {
          "base_uri": "https://localhost:8080/"
        },
        "id": "IZY9Nj90JpaC",
        "outputId": "b81aba0b-5df1-4e8b-cd7f-a760d3478214"
      },
      "execution_count": 29,
      "outputs": [
        {
          "output_type": "stream",
          "name": "stdout",
          "text": [
            "Perda de Teste do MLP: 0.027289148420095444\n",
            "Perda de Teste da Regressão Linear: 0.11461468786001205\n"
          ]
        }
      ]
    },
    {
      "cell_type": "code",
      "source": [
        "# Plota o histórico de perda\n",
        "plt.figure(figsize=(10, 6))\n",
        "plt.plot(historico_perda_mlp, label='MLP', color='blue')\n",
        "plt.plot(historico_perda_linear, label='Regressão Linear', color='red')\n",
        "plt.xlabel('Épocas')\n",
        "plt.ylabel('Perda (MSE)')\n",
        "plt.legend()\n",
        "plt.title('Perda vs. Épocas')\n",
        "plt.grid(True)\n",
        "plt.show()"
      ],
      "metadata": {
        "colab": {
          "base_uri": "https://localhost:8080/",
          "height": 569
        },
        "id": "tMZX71qtMTRf",
        "outputId": "7eceb6a1-72a3-4848-acba-fe4cd86be5bd"
      },
      "execution_count": 30,
      "outputs": [
        {
          "output_type": "display_data",
          "data": {
            "text/plain": [
              "<Figure size 1000x600 with 1 Axes>"
            ],
            "image/png": "[encoded data removed]"
          },
          "metadata": {}
        }
      ]
    },
    {
      "cell_type": "code",
      "source": [
        "# Gera dados sintéticos baseados em uma função não-linear com ruído\n",
        "x = torch.unsqueeze(torch.linspace(-1, 1, 100), dim=1)\n",
        "y = x.pow(3) + 0.3*torch.rand(x.size())\n",
        "\n",
        "# Dividindo os dados em treinamento e teste\n",
        "x_train = x[:80]\n",
        "y_train = y[:80]\n",
        "x_test = x[80:]\n",
        "y_test = y[80:]\n",
        "\n",
        "# Modelo MLP complexo\n",
        "class MLPComplexo(nn.Module):\n",
        "    def __init__(self, input_dim, hidden_dim, output_dim):\n",
        "        super(MLPComplexo, self).__init__()\n",
        "        self.layers = nn.Sequential(\n",
        "            nn.Linear(input_dim, hidden_dim),\n",
        "            nn.ReLU(),\n",
        "            nn.Linear(hidden_dim, hidden_dim),\n",
        "            nn.ReLU(),\n",
        "            nn.Linear(hidden_dim, output_dim)\n",
        "        )\n",
        "    def forward(self, x):\n",
        "        return self.layers(x)\n",
        "\n",
        "# Modelos\n",
        "input_dim = 1\n",
        "hidden_dim = 100\n",
        "output_dim = 1\n",
        "modelo_complexo = MLPComplexo(input_dim, hidden_dim, output_dim)\n",
        "\n",
        "# Critério e otimizador\n",
        "criterion = nn.MSELoss()\n",
        "otimizador = torch.optim.SGD(modelo_complexo.parameters(), lr=0.01)\n",
        "\n",
        "# Treina o modelo complexo\n",
        "historico_perda_train = []\n",
        "historico_perda_test = []\n",
        "for epoch in range(2000):\n",
        "    predicao_train = modelo_complexo(x_train)\n",
        "    perda_train = criterion(predicao_train, y_train)\n",
        "\n",
        "    otimizador.zero_grad()\n",
        "    perda_train.backward()\n",
        "    otimizador.step()\n",
        "\n",
        "    historico_perda_train.append(perda_train.item())\n",
        "\n",
        "    with torch.no_grad():\n",
        "        predicao_test = modelo_complexo(x_test)\n",
        "        perda_test = criterion(predicao_test, y_test)\n",
        "        historico_perda_test.append(perda_test.item())\n",
        "\n",
        "# Plota os resultados\n",
        "plt.figure(figsize=(10, 6))\n",
        "plt.plot(historico_perda_train, label='Treinamento', color='blue')\n",
        "plt.plot(historico_perda_test, label='Teste', color='red')\n",
        "plt.xlabel('Épocas')\n",
        "plt.ylabel('Perda (MSE)')\n",
        "plt.legend()\n",
        "plt.title('Perda vs. Épocas')\n",
        "plt.grid(True)\n",
        "plt.show()"
      ],
      "metadata": {
        "colab": {
          "base_uri": "https://localhost:8080/",
          "height": 569
        },
        "id": "lfnAv775NTZS",
        "outputId": "0c7f2b8f-4cfa-4d53-d13a-ccecbb55736f"
      },
      "execution_count": null,
      "outputs": [
        {
          "output_type": "display_data",
          "data": {
            "text/plain": [
              "<Figure size 1000x600 with 1 Axes>"
            ],
            "image/png": "[encoded data removed]"
          },
          "metadata": {}
        }
      ]
    },
    {
      "cell_type": "code",
      "source": [],
      "metadata": {
        "id": "R8s419J1NWku"
      },
      "execution_count": null,
      "outputs": []
    }
  ]
}