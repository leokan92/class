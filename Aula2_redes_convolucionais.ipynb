{
  "nbformat": 4,
  "nbformat_minor": 0,
  "metadata": {
    "colab": {
      "provenance": [],
      "authorship_tag": "ABX9TyNPulWxBePsMXh4nDVqQQng",
      "include_colab_link": true
    },
    "kernelspec": {
      "name": "python3",
      "display_name": "Python 3"
    },
    "language_info": {
      "name": "python"
    }
  },
  "cells": [
    {
      "cell_type": "markdown",
      "metadata": {
        "id": "view-in-github",
        "colab_type": "text"
      },
      "source": [
        "<a href=\"https://colab.research.google.com/github/leokan92/class/blob/main/Aula2_redes_convolucionais.ipynb\" target=\"_parent\"><img src=\"https://colab.research.google.com/assets/colab-badge.svg\" alt=\"Open In Colab\"/></a>"
      ]
    },
    {
      "cell_type": "markdown",
      "source": [
        "# Aula 2 - Redes Neurais Convolucionais: Exemplo simples"
      ],
      "metadata": {
        "id": "Gkmt0B0pPIZH"
      }
    },
    {
      "cell_type": "code",
      "source": [
        "import torch\n",
        "import torch.nn as nn\n",
        "import torch.optim as optim\n",
        "import torchvision\n",
        "import torchvision.transforms as transforms"
      ],
      "metadata": {
        "id": "UXlXW1YuYe0r"
      },
      "execution_count": 3,
      "outputs": []
    },
    {
      "cell_type": "markdown",
      "source": [
        "## Configurações"
      ],
      "metadata": {
        "id": "rMSSJkOqYhqr"
      }
    },
    {
      "cell_type": "code",
      "execution_count": 4,
      "metadata": {
        "id": "27pbDuvOPE2I"
      },
      "outputs": [],
      "source": [
        "# Configuração\n",
        "BATCH_SIZE = 64\n",
        "EPOCHS = 10\n",
        "LR = 0.001"
      ]
    },
    {
      "cell_type": "markdown",
      "source": [
        "## Carregando Dataset MNIST"
      ],
      "metadata": {
        "id": "zxswZwtQYqT6"
      }
    },
    {
      "cell_type": "code",
      "source": [
        "# Carregar o MNIST\n",
        "transform = transforms.Compose([transforms.ToTensor(), transforms.Normalize((0.5,), (0.5,))])\n",
        "\n",
        "train_dataset = torchvision.datasets.MNIST(root='./data', train=True, transform=transform, download=True)\n",
        "train_loader = torch.utils.data.DataLoader(train_dataset, batch_size=BATCH_SIZE, shuffle=True)\n",
        "\n",
        "test_dataset = torchvision.datasets.MNIST(root='./data', train=False, transform=transform)\n",
        "test_loader = torch.utils.data.DataLoader(test_dataset, batch_size=BATCH_SIZE, shuffle=False)"
      ],
      "metadata": {
        "colab": {
          "base_uri": "https://localhost:8080/"
        },
        "id": "4oDSFL11YnC3",
        "outputId": "98f87b28-d885-48d1-f296-95b2f52d1414"
      },
      "execution_count": 5,
      "outputs": [
        {
          "output_type": "stream",
          "name": "stdout",
          "text": [
            "Downloading http://yann.lecun.com/exdb/mnist/train-images-idx3-ubyte.gz\n",
            "Downloading http://yann.lecun.com/exdb/mnist/train-images-idx3-ubyte.gz to ./data/MNIST/raw/train-images-idx3-ubyte.gz\n"
          ]
        },
        {
          "output_type": "stream",
          "name": "stderr",
          "text": [
            "100%|██████████| 9912422/9912422 [00:00<00:00, 60970035.73it/s]\n"
          ]
        },
        {
          "output_type": "stream",
          "name": "stdout",
          "text": [
            "Extracting ./data/MNIST/raw/train-images-idx3-ubyte.gz to ./data/MNIST/raw\n",
            "\n",
            "Downloading http://yann.lecun.com/exdb/mnist/train-labels-idx1-ubyte.gz\n",
            "Downloading http://yann.lecun.com/exdb/mnist/train-labels-idx1-ubyte.gz to ./data/MNIST/raw/train-labels-idx1-ubyte.gz\n"
          ]
        },
        {
          "output_type": "stream",
          "name": "stderr",
          "text": [
            "100%|██████████| 28881/28881 [00:00<00:00, 45166179.65it/s]"
          ]
        },
        {
          "output_type": "stream",
          "name": "stdout",
          "text": [
            "Extracting ./data/MNIST/raw/train-labels-idx1-ubyte.gz to ./data/MNIST/raw\n",
            "\n",
            "Downloading http://yann.lecun.com/exdb/mnist/t10k-images-idx3-ubyte.gz\n"
          ]
        },
        {
          "output_type": "stream",
          "name": "stderr",
          "text": [
            "\n"
          ]
        },
        {
          "output_type": "stream",
          "name": "stdout",
          "text": [
            "Downloading http://yann.lecun.com/exdb/mnist/t10k-images-idx3-ubyte.gz to ./data/MNIST/raw/t10k-images-idx3-ubyte.gz\n"
          ]
        },
        {
          "output_type": "stream",
          "name": "stderr",
          "text": [
            "100%|██████████| 1648877/1648877 [00:00<00:00, 27173892.05it/s]"
          ]
        },
        {
          "output_type": "stream",
          "name": "stdout",
          "text": [
            "Extracting ./data/MNIST/raw/t10k-images-idx3-ubyte.gz to ./data/MNIST/raw\n",
            "\n",
            "Downloading http://yann.lecun.com/exdb/mnist/t10k-labels-idx1-ubyte.gz\n"
          ]
        },
        {
          "output_type": "stream",
          "name": "stderr",
          "text": [
            "\n"
          ]
        },
        {
          "output_type": "stream",
          "name": "stdout",
          "text": [
            "Downloading http://yann.lecun.com/exdb/mnist/t10k-labels-idx1-ubyte.gz to ./data/MNIST/raw/t10k-labels-idx1-ubyte.gz\n"
          ]
        },
        {
          "output_type": "stream",
          "name": "stderr",
          "text": [
            "100%|██████████| 4542/4542 [00:00<00:00, 12880682.06it/s]\n"
          ]
        },
        {
          "output_type": "stream",
          "name": "stdout",
          "text": [
            "Extracting ./data/MNIST/raw/t10k-labels-idx1-ubyte.gz to ./data/MNIST/raw\n",
            "\n"
          ]
        }
      ]
    },
    {
      "cell_type": "markdown",
      "source": [
        "## Arquitetura CNN"
      ],
      "metadata": {
        "id": "ztb5S_CfZq9d"
      }
    },
    {
      "cell_type": "code",
      "source": [
        "# Definir a CNN\n",
        "class CNN(nn.Module):\n",
        "    def __init__(self):\n",
        "        super(CNN, self).__init__()\n",
        "        self.conv1 = nn.Conv2d(1, 32, 3, 1)\n",
        "        self.conv2 = nn.Conv2d(32, 64, 3, 1)\n",
        "        self.dropout1 = nn.Dropout2d(0.25)\n",
        "        self.dropout2 = nn.Dropout2d(0.5)\n",
        "        self.fc1 = nn.Linear(9216, 128)\n",
        "        self.fc2 = nn.Linear(128, 10)\n",
        "\n",
        "    def forward(self, x):\n",
        "        x = self.conv1(x)\n",
        "        x = nn.ReLU()(x)\n",
        "        x = self.conv2(x)\n",
        "        x = nn.ReLU()(x)\n",
        "        x = nn.MaxPool2d(2)(x)\n",
        "        x = self.dropout1(x)\n",
        "        x = torch.flatten(x, 1)\n",
        "        x = self.fc1(x)\n",
        "        x = nn.ReLU()(x)\n",
        "        x = self.dropout2(x)\n",
        "        x = self.fc2(x)\n",
        "        return nn.LogSoftmax(dim=1)(x)"
      ],
      "metadata": {
        "id": "OAoWMOVsYpGP"
      },
      "execution_count": 6,
      "outputs": []
    },
    {
      "cell_type": "markdown",
      "source": [
        "## Arquitetura totalmente conectada MLP\n",
        "\n"
      ],
      "metadata": {
        "id": "QjXC6ndYZuoM"
      }
    },
    {
      "cell_type": "code",
      "source": [
        "# Definir o MLP\n",
        "class MLP(nn.Module):\n",
        "    def __init__(self):\n",
        "        super(MLP, self).__init__()\n",
        "        self.fc1 = nn.Linear(28*28, 512)\n",
        "        self.fc2 = nn.Linear(512, 256)\n",
        "        self.fc3 = nn.Linear(256, 10)\n",
        "\n",
        "    def forward(self, x):\n",
        "        x = x.view(-1, 28*28)\n",
        "        x = nn.ReLU()(self.fc1(x))\n",
        "        x = nn.ReLU()(self.fc2(x))\n",
        "        return nn.LogSoftmax(dim=1)(self.fc3(x))"
      ],
      "metadata": {
        "id": "4oBGsgmkZy3B"
      },
      "execution_count": 7,
      "outputs": []
    },
    {
      "cell_type": "code",
      "source": [
        "# Função de treino\n",
        "def train(model, train_loader, optimizer, criterion):\n",
        "    model.train()\n",
        "    running_loss = 0.0\n",
        "    for i, data in enumerate(train_loader, 0):\n",
        "        inputs, labels = data\n",
        "        optimizer.zero_grad()\n",
        "        outputs = model(inputs)\n",
        "        loss = criterion(outputs, labels)\n",
        "        loss.backward()\n",
        "        optimizer.step()\n",
        "        running_loss += loss.item()\n",
        "    return running_loss / len(train_loader)\n",
        "\n",
        "# Função de teste\n",
        "def test(model, test_loader, criterion):\n",
        "    model.eval()\n",
        "    correct = 0\n",
        "    total = 0\n",
        "    with torch.no_grad():\n",
        "        for data in test_loader:\n",
        "            images, labels = data\n",
        "            outputs = model(images)\n",
        "            _, predicted = torch.max(outputs.data, 1)\n",
        "            total += labels.size(0)\n",
        "            correct += (predicted == labels).sum().item()\n",
        "    return 1 - correct / total  # Erro"
      ],
      "metadata": {
        "id": "6c53ekYXZ4eE"
      },
      "execution_count": 8,
      "outputs": []
    },
    {
      "cell_type": "code",
      "source": [
        "# Treinando e Testando a CNN\n",
        "cnn = CNN()\n",
        "cnn_optimizer = optim.Adam(cnn.parameters(), lr=LR)\n",
        "criterion = nn.CrossEntropyLoss()\n",
        "cnn_train_loss = []\n",
        "cnn_test_error = []\n",
        "for epoch in range(EPOCHS):\n",
        "    train_loss = train(cnn, train_loader, cnn_optimizer, criterion)\n",
        "    test_error = test(cnn, test_loader, criterion)\n",
        "    cnn_train_loss.append(train_loss)\n",
        "    cnn_test_error.append(test_error)\n",
        "    print(f\"CNN - Epoch {epoch+1}/{EPOCHS}, Train Loss: {train_loss:.4f}, Test Error: {test_error:.4f}\")\n",
        "\n",
        "# Treinando e Testando o MLP\n",
        "mlp = MLP()\n",
        "mlp_optimizer = optim.Adam(mlp.parameters(), lr=LR)\n",
        "mlp_train_loss = []\n",
        "mlp_test_error = []\n",
        "for epoch in range(EPOCHS):\n",
        "    train_loss = train(mlp, train_loader, mlp_optimizer, criterion)\n",
        "    test_error = test(mlp, test_loader, criterion)\n",
        "    mlp_train_loss.append(train_loss)\n",
        "    mlp_test_error.append(test_error)\n",
        "    print(f\"MLP - Epoch {epoch+1}/{EPOCHS}, Train Loss: {train_loss:.4f}, Test Error: {test_error:.4f}\")\n",
        "\n",
        "# Comparando os resultados\n",
        "print(\"\\nComparação:\")\n",
        "print(\"CNN - Média Train Loss:\", sum(cnn_train_loss)/EPOCHS, \"Média Test Error:\", sum(cnn_test_error)/EPOCHS)\n",
        "print(\"MLP - Média Train Loss:\", sum(mlp_train_loss)/EPOCHS, \"Média Test Error:\", sum(mlp_test_error)/EPOCHS)"
      ],
      "metadata": {
        "colab": {
          "base_uri": "https://localhost:8080/"
        },
        "id": "wL1rGLX1Z8ub",
        "outputId": "d0bb47f3-6026-4de9-9064-5beedf463a2a"
      },
      "execution_count": 9,
      "outputs": [
        {
          "metadata": {
            "tags": null
          },
          "name": "stderr",
          "output_type": "stream",
          "text": [
            "/usr/local/lib/python3.10/dist-packages/torch/nn/functional.py:1345: UserWarning: dropout2d: Received a 2-D input to dropout2d, which is deprecated and will result in an error in a future release. To retain the behavior and silence this warning, please use dropout instead. Note that dropout2d exists to provide channel-wise dropout on inputs with 2 spatial dimensions, a channel dimension, and an optional batch dimension (i.e. 3D or 4D inputs).\n",
            "  warnings.warn(warn_msg)\n"
          ]
        },
        {
          "output_type": "stream",
          "name": "stdout",
          "text": [
            "CNN - Epoch 1/10, Train Loss: 0.2144, Test Error: 0.0153\n",
            "CNN - Epoch 2/10, Train Loss: 0.0920, Test Error: 0.0125\n",
            "CNN - Epoch 3/10, Train Loss: 0.0700, Test Error: 0.0118\n",
            "CNN - Epoch 4/10, Train Loss: 0.0592, Test Error: 0.0106\n",
            "CNN - Epoch 5/10, Train Loss: 0.0510, Test Error: 0.0095\n",
            "CNN - Epoch 6/10, Train Loss: 0.0425, Test Error: 0.0089\n",
            "CNN - Epoch 7/10, Train Loss: 0.0369, Test Error: 0.0086\n",
            "CNN - Epoch 8/10, Train Loss: 0.0356, Test Error: 0.0083\n",
            "CNN - Epoch 9/10, Train Loss: 0.0309, Test Error: 0.0082\n",
            "CNN - Epoch 10/10, Train Loss: 0.0291, Test Error: 0.0080\n",
            "MLP - Epoch 1/10, Train Loss: 0.3005, Test Error: 0.0490\n",
            "MLP - Epoch 2/10, Train Loss: 0.1399, Test Error: 0.0376\n",
            "MLP - Epoch 3/10, Train Loss: 0.0998, Test Error: 0.0319\n",
            "MLP - Epoch 4/10, Train Loss: 0.0814, Test Error: 0.0290\n",
            "MLP - Epoch 5/10, Train Loss: 0.0653, Test Error: 0.0283\n",
            "MLP - Epoch 6/10, Train Loss: 0.0610, Test Error: 0.0244\n",
            "MLP - Epoch 7/10, Train Loss: 0.0518, Test Error: 0.0254\n",
            "MLP - Epoch 8/10, Train Loss: 0.0460, Test Error: 0.0240\n",
            "MLP - Epoch 9/10, Train Loss: 0.0425, Test Error: 0.0267\n",
            "MLP - Epoch 10/10, Train Loss: 0.0385, Test Error: 0.0218\n",
            "\n",
            "Comparação:\n",
            "CNN - Média Train Loss: 0.06617940888256837 Média Test Error: 0.010170000000000002\n",
            "MLP - Média Train Loss: 0.09266882776525052 Média Test Error: 0.029810000000000003\n"
          ]
        }
      ]
    },
    {
      "cell_type": "code",
      "source": [
        "import matplotlib.pyplot as plt\n",
        "\n",
        "# Plotando as curvas de treino\n",
        "plt.figure(figsize=(12, 5))\n",
        "\n",
        "plt.subplot(1, 2, 1)  # 1 linha, 2 colunas, subplot 1\n",
        "plt.plot(cnn_train_loss, label='CNN Train Loss', color='blue')\n",
        "plt.plot(mlp_train_loss, label='MLP Train Loss', color='red')\n",
        "plt.xlabel('Epochs')\n",
        "plt.ylabel('Loss')\n",
        "plt.title('Train Loss vs. Epochs')\n",
        "plt.legend()\n",
        "\n",
        "# Plotando as curvas de teste\n",
        "plt.subplot(1, 2, 2)  # 1 linha, 2 colunas, subplot 2\n",
        "plt.plot(cnn_test_error, label='CNN Test Error', color='blue', linestyle='dashed')\n",
        "plt.plot(mlp_test_error, label='MLP Test Error', color='red', linestyle='dashed')\n",
        "plt.xlabel('Epochs')\n",
        "plt.ylabel('Error')\n",
        "plt.title('Test Error vs. Epochs')\n",
        "plt.legend()\n",
        "\n",
        "plt.tight_layout()\n",
        "plt.show()\n"
      ],
      "metadata": {
        "colab": {
          "base_uri": "https://localhost:8080/",
          "height": 507
        },
        "id": "TijaTklFpR7C",
        "outputId": "913a8130-399b-4cd9-8284-b3c716b9e03f"
      },
      "execution_count": 10,
      "outputs": [
        {
          "output_type": "display_data",
          "data": {
            "text/plain": [
              "<Figure size 1200x500 with 2 Axes>"
            ],
            "image/png": "[encoded data removed]"
          },
          "metadata": {}
        }
      ]
    },
    {
      "cell_type": "code",
      "source": [],
      "metadata": {
        "id": "kV55dk6lp3An"
      },
      "execution_count": null,
      "outputs": []
    }
  ]
}