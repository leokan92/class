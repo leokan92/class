{
  "nbformat": 4,
  "nbformat_minor": 0,
  "metadata": {
    "colab": {
      "provenance": [],
      "authorship_tag": "ABX9TyOp4/hDSm15p2Oof47rBIQQ",
      "include_colab_link": true
    },
    "kernelspec": {
      "name": "python3",
      "display_name": "Python 3"
    },
    "language_info": {
      "name": "python"
    }
  },
  "cells": [
    {
      "cell_type": "markdown",
      "metadata": {
        "id": "view-in-github",
        "colab_type": "text"
      },
      "source": [
        "<a href=\"https://colab.research.google.com/github/leokan92/class/blob/main/Aula_3_Redes_neurais_recorrentes.ipynb\" target=\"_parent\"><img src=\"https://colab.research.google.com/assets/colab-badge.svg\" alt=\"Open In Colab\"/></a>"
      ]
    },
    {
      "cell_type": "markdown",
      "source": [
        "# Aula 3 - Redes neurais recorrentes"
      ],
      "metadata": {
        "id": "_6LzV8KtccBi"
      }
    },
    {
      "cell_type": "code",
      "execution_count": 34,
      "metadata": {
        "id": "UlWu2IMAcVqS"
      },
      "outputs": [],
      "source": [
        "import torch\n",
        "import torch.nn as nn\n",
        "import torch.optim as optim\n",
        "import numpy as np\n",
        "import matplotlib.pyplot as plt"
      ]
    },
    {
      "cell_type": "markdown",
      "source": [
        "## Dataset com dados sintéticos\n",
        "\n"
      ],
      "metadata": {
        "id": "V2azGXY4dEMh"
      }
    },
    {
      "cell_type": "code",
      "source": [
        "# Gerar dados mais complexos\n",
        "def generate_complex_data(sequence_length, num_samples, noise=0.1):\n",
        "    x_values = np.linspace(0, 8 * np.pi, sequence_length)  # Aumentando o período\n",
        "    data = np.array([np.sin(x_values) + 0.5 * np.sin(2 * x_values + np.pi / 4) for _ in range(num_samples)])\n",
        "    data = data + noise * np.random.randn(num_samples, sequence_length)\n",
        "    data = data.reshape((num_samples, sequence_length, 1))\n",
        "    return torch.tensor(data, dtype=torch.float32)\n"
      ],
      "metadata": {
        "id": "UlikjYENdHbx"
      },
      "execution_count": 35,
      "outputs": []
    },
    {
      "cell_type": "code",
      "source": [
        "# Gerar dados com dependências de longo alcance\n",
        "def generate_complex_data_with_noise(sequence_length, num_samples, noise=0.1):\n",
        "    intervals = np.linspace(0, 50 * np.pi, sequence_length)\n",
        "    data = np.sin(intervals) * np.sin(0.1 * intervals)\n",
        "    data = np.array([data for _ in range(num_samples)])\n",
        "    data = data + noise * np.random.randn(num_samples, sequence_length)\n",
        "    return torch.tensor(data, dtype=torch.float32).view(num_samples, sequence_length, -1)\n"
      ],
      "metadata": {
        "id": "wLYwJ_vNgu4Q"
      },
      "execution_count": 36,
      "outputs": []
    },
    {
      "cell_type": "code",
      "source": [
        "# Parâmetros\n",
        "sequence_length = 400  # Aumentando o tamanho da sequência\n",
        "num_train_samples = 1000\n",
        "num_test_samples = 200\n",
        "\n",
        "train_data = generate_complex_data_with_noise(sequence_length, num_train_samples)\n",
        "test_data = generate_complex_data_with_noise(sequence_length, num_test_samples)"
      ],
      "metadata": {
        "id": "S0MRXzQCg4OK"
      },
      "execution_count": 37,
      "outputs": []
    },
    {
      "cell_type": "markdown",
      "source": [
        "## Definimos os modelos"
      ],
      "metadata": {
        "id": "cpD8mEq2dUJl"
      }
    },
    {
      "cell_type": "code",
      "source": [
        "# Definir modelos\n",
        "class RNNModel(nn.Module):\n",
        "    def __init__(self, input_dim, hidden_dim):\n",
        "        super(RNNModel, self).__init__()\n",
        "        self.rnn = nn.RNN(input_dim, hidden_dim)\n",
        "        self.linear = nn.Linear(hidden_dim, 1)\n",
        "\n",
        "    def forward(self, x):\n",
        "        output, _ = self.rnn(x)\n",
        "        output = self.linear(output)\n",
        "        return output\n",
        "\n",
        "class LSTMModel(nn.Module):\n",
        "    def __init__(self, input_dim, hidden_dim):\n",
        "        super(LSTMModel, self).__init__()\n",
        "        self.lstm = nn.LSTM(input_dim, hidden_dim)\n",
        "        self.linear = nn.Linear(hidden_dim, 1)\n",
        "\n",
        "    def forward(self, x):\n",
        "        output, _ = self.lstm(x)\n",
        "        output = self.linear(output)\n",
        "        return output\n",
        "\n",
        "class GRUModel(nn.Module):\n",
        "    def __init__(self, input_dim, hidden_dim):\n",
        "        super(GRUModel, self).__init__()\n",
        "        self.gru = nn.GRU(input_dim, hidden_dim)\n",
        "        self.linear = nn.Linear(hidden_dim, 1)\n",
        "\n",
        "    def forward(self, x):\n",
        "        output, _ = self.gru(x)\n",
        "        output = self.linear(output)\n",
        "        return output"
      ],
      "metadata": {
        "id": "mnqTW28gdMOs"
      },
      "execution_count": 38,
      "outputs": []
    },
    {
      "cell_type": "markdown",
      "source": [
        "## Definimos os otimizadores, etc."
      ],
      "metadata": {
        "id": "g5IEwA4XdaGj"
      }
    },
    {
      "cell_type": "code",
      "source": [
        "# Parâmetros\n",
        "input_dim = 1\n",
        "hidden_dim = 32\n",
        "learning_rate = 0.01\n",
        "num_epochs = 100\n",
        "\n",
        "# Instanciar modelos e otimizadores\n",
        "rnn_model = RNNModel(input_dim, hidden_dim)\n",
        "lstm_model = LSTMModel(input_dim, hidden_dim)\n",
        "gru_model = GRUModel(input_dim, hidden_dim)\n",
        "\n",
        "optimizer_rnn = optim.Adam(rnn_model.parameters(), lr=learning_rate)\n",
        "optimizer_lstm = optim.Adam(lstm_model.parameters(), lr=learning_rate)\n",
        "optimizer_gru = optim.Adam(gru_model.parameters(), lr=learning_rate)\n",
        "\n",
        "criterion = nn.MSELoss()"
      ],
      "metadata": {
        "id": "6qZvLTJadcrJ"
      },
      "execution_count": 39,
      "outputs": []
    },
    {
      "cell_type": "markdown",
      "source": [
        "## Treino"
      ],
      "metadata": {
        "id": "uffArZlVdmHh"
      }
    },
    {
      "cell_type": "code",
      "source": [
        "import time\n",
        "\n",
        "# Treinamento\n",
        "def train_model(model, optimizer):\n",
        "    loss_history = []\n",
        "    for epoch in range(num_epochs):\n",
        "        model.train()\n",
        "        optimizer.zero_grad()\n",
        "        output = model(train_data)\n",
        "        loss = criterion(output[:, :-1, :], train_data[:, 1:, :])\n",
        "        loss.backward()\n",
        "        optimizer.step()\n",
        "        loss_history.append(loss.item())\n",
        "    return loss_history\n",
        "\n",
        "# Função para treinar e cronometrar o modelo\n",
        "def train_and_time_model(model, optimizer):\n",
        "    start_time = time.time()\n",
        "    loss_curve = train_model(model, optimizer)\n",
        "    end_time = time.time()\n",
        "    elapsed_time = end_time - start_time\n",
        "    return loss_curve, elapsed_time"
      ],
      "metadata": {
        "id": "Y2UocxlSddsE"
      },
      "execution_count": 40,
      "outputs": []
    },
    {
      "cell_type": "markdown",
      "source": [
        "## Teste e comparação"
      ],
      "metadata": {
        "id": "SSumUag2dh9o"
      }
    },
    {
      "cell_type": "code",
      "source": [
        "# Avaliar modelos em conjunto de testes\n",
        "def evaluate_model(model, test_data):\n",
        "    model.eval()\n",
        "    with torch.no_grad():\n",
        "        output = model(test_data)\n",
        "        loss = criterion(output[:, :-1, :], test_data[:, 1:, :])\n",
        "    return loss.item()\n",
        "\n",
        "# Treinamento e cronometragem\n",
        "rnn_loss, rnn_time = train_and_time_model(rnn_model, optimizer_rnn)\n",
        "lstm_loss, lstm_time = train_and_time_model(lstm_model, optimizer_lstm)\n",
        "gru_loss, gru_time = train_and_time_model(gru_model, optimizer_gru)\n",
        "\n",
        "\n",
        "# Avaliação\n",
        "rnn_test_loss = evaluate_model(rnn_model, test_data)\n",
        "lstm_test_loss = evaluate_model(lstm_model, test_data)\n",
        "gru_test_loss = evaluate_model(gru_model, test_data)\n",
        "\n",
        "print(f'RNN Test Loss: {rnn_test_loss}, Time: {rnn_time:.2f} seconds')\n",
        "print(f'LSTM Test Loss: {lstm_test_loss}, Time: {lstm_time:.2f} seconds')\n",
        "print(f'GRU Test Loss: {gru_test_loss}, Time: {gru_time:.2f} seconds')\n",
        "\n",
        "# Plotar as curvas de perda de treinamento\n",
        "plt.figure()\n",
        "plt.plot(rnn_loss, label='RNN Training Loss')\n",
        "plt.plot(lstm_loss, label='LSTM Training Loss')\n",
        "plt.plot(gru_loss, label='GRU Training Loss')\n",
        "plt.xlabel('Epochs')\n",
        "plt.ylabel('Loss')\n",
        "plt.legend()\n",
        "plt.show()"
      ],
      "metadata": {
        "colab": {
          "base_uri": "https://localhost:8080/",
          "height": 501
        },
        "id": "LC0oir__dhkG",
        "outputId": "78b811db-eded-47d9-a419-6aa7d1739cf0"
      },
      "execution_count": 41,
      "outputs": [
        {
          "output_type": "stream",
          "name": "stdout",
          "text": [
            "RNN Test Loss: 0.04998217150568962, Time: 39.76 seconds\n",
            "LSTM Test Loss: 0.04977691173553467, Time: 139.75 seconds\n",
            "GRU Test Loss: 0.04849305748939514, Time: 113.86 seconds\n"
          ]
        },
        {
          "output_type": "display_data",
          "data": {
            "text/plain": [
              "<Figure size 640x480 with 1 Axes>"
            ],
            "image/png": "[encoded data removed]"
          },
          "metadata": {}
        }
      ]
    },
    {
      "cell_type": "code",
      "source": [],
      "metadata": {
        "id": "fb974de5dpiC"
      },
      "execution_count": 41,
      "outputs": []
    }
  ]
}