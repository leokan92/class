{
  "nbformat": 4,
  "nbformat_minor": 0,
  "metadata": {
    "colab": {
      "provenance": [],
      "authorship_tag": "ABX9TyOv+iWf6owjsMQgZ9qQOPJV",
      "include_colab_link": true
    },
    "kernelspec": {
      "name": "python3",
      "display_name": "Python 3"
    },
    "language_info": {
      "name": "python"
    }
  },
  "cells": [
    {
      "cell_type": "markdown",
      "metadata": {
        "id": "view-in-github",
        "colab_type": "text"
      },
      "source": [
        "<a href=\"https://colab.research.google.com/github/leokan92/class/blob/main/Aula_3_Redes_neurais_recorrentes.ipynb\" target=\"_parent\"><img src=\"https://colab.research.google.com/assets/colab-badge.svg\" alt=\"Open In Colab\"/></a>"
      ]
    },
    {
      "cell_type": "markdown",
      "source": [
        "# Aula 3 - Redes neurais recorrentes"
      ],
      "metadata": {
        "id": "_6LzV8KtccBi"
      }
    },
    {
      "cell_type": "code",
      "execution_count": null,
      "metadata": {
        "id": "UlWu2IMAcVqS"
      },
      "outputs": [],
      "source": [
        "import torch\n",
        "import torch.nn as nn\n",
        "import torch.optim as optim\n",
        "import numpy as np\n",
        "import matplotlib.pyplot as plt"
      ]
    },
    {
      "cell_type": "markdown",
      "source": [
        "##Visualização da atualização dos gradientes"
      ],
      "metadata": {
        "id": "InmR2uTMF6gl"
      }
    },
    {
      "cell_type": "code",
      "source": [
        "import numpy as np\n",
        "import matplotlib.pyplot as plt\n",
        "\n",
        "# Função de ativação sigmoide\n",
        "def sigmoid(x):\n",
        "    return 1 / (1 + np.exp(-x))\n",
        "\n",
        "# Derivada da função sigmoide\n",
        "def sigmoid_derivative(x):\n",
        "    return x * (1 - x)\n",
        "\n",
        "# Definição de uma RNN simples\n",
        "class SimpleRNN:\n",
        "    def __init__(self, input_size, hidden_size, output_size):\n",
        "        # Inicializando pesos aleatórios\n",
        "        self.Wxh = np.random.randn(hidden_size, input_size) * 0.1  # Pesos input -> hidden\n",
        "        self.Whh = np.random.randn(hidden_size, hidden_size) * 0.1  # Pesos hidden -> hidden\n",
        "        self.Why = np.random.randn(output_size, hidden_size) * 0.1  # Pesos hidden -> output\n",
        "\n",
        "        # Inicializando os estados ocultos como zero\n",
        "        self.h_prev = np.zeros((hidden_size, 1))\n",
        "\n",
        "    def forward(self, x):\n",
        "        # Calcula a propagação para frente\n",
        "        self.h = sigmoid(np.dot(self.Wxh, x) + np.dot(self.Whh, self.h_prev))  # Novo estado oculto\n",
        "        self.y = np.dot(self.Why, self.h)  # Saída final\n",
        "        self.h_prev = self.h  # Atualiza o estado oculto anterior\n",
        "        return self.y, self.h\n",
        "\n",
        "    def backward(self, x, dy, lr=0.001):\n",
        "        # Propagação do erro e ajuste de pesos (backpropagation through time)\n",
        "        dh = np.dot(self.Why.T, dy) * sigmoid_derivative(self.h)  # Derivada do erro em relação ao estado oculto\n",
        "        dWhy = np.dot(dy, self.h.T)  # Gradiente do peso Why\n",
        "        dWxh = np.dot(dh, x.T)  # Gradiente do peso Wxh\n",
        "        dWhh = np.dot(dh, self.h_prev.T)  # Gradiente do peso Whh\n",
        "\n",
        "        # Atualizando os pesos\n",
        "        self.Why -= lr * dWhy\n",
        "        self.Wxh -= lr * dWxh\n",
        "        self.Whh -= lr * dWhh\n",
        "\n",
        "        return np.linalg.norm(dWxh), np.linalg.norm(dWhh), np.linalg.norm(dWhy)  # Retorna o tamanho dos ajustes\n",
        "\n",
        "# Função para treinar a RNN e visualizar a propagação do erro\n",
        "def train_rnn():\n",
        "    input_size = 1  # Tamanho da entrada (1D)\n",
        "    hidden_size = 10  # Tamanho da camada oculta\n",
        "    output_size = 1  # Tamanho da saída (1D)\n",
        "\n",
        "    # Criando uma RNN simples\n",
        "    rnn = SimpleRNN(input_size, hidden_size, output_size)\n",
        "\n",
        "    # Exemplo de sequência de entrada\n",
        "    seq_length = 10\n",
        "    inputs = np.random.randn(input_size, seq_length)\n",
        "    targets = np.sin(np.linspace(0, 2 * np.pi, seq_length))  # Usando uma senoide como alvo\n",
        "\n",
        "    # Armazenando os ajustes de peso para cada período da sequência\n",
        "    weight_updates = []\n",
        "\n",
        "    # Executa apenas uma época\n",
        "    for t in range(seq_length):\n",
        "        x = inputs[:, t].reshape(-1, 1)  # Pegando uma amostra da sequência\n",
        "        target = targets[t]\n",
        "\n",
        "        # Forward pass\n",
        "        y_pred, _ = rnn.forward(x)\n",
        "\n",
        "        # Erro\n",
        "        loss = y_pred - target\n",
        "\n",
        "        # Backpropagation\n",
        "        dWxh_norm, dWhh_norm, dWhy_norm = rnn.backward(x, loss)\n",
        "\n",
        "        # Armazenando os ajustes de peso\n",
        "        weight_updates.append((dWxh_norm, dWhh_norm, dWhy_norm))\n",
        "        print(f\"Período {t + 1}: Ajustes de Wxh: {dWxh_norm:.6f}, Whh: {dWhh_norm:.6f}, Why: {dWhy_norm:.6f}\")\n",
        "\n",
        "    # Plotando o tamanho dos ajustes de peso ao longo da sequência\n",
        "    weight_updates = np.array(weight_updates)\n",
        "    plt.figure(figsize=(10, 6))\n",
        "    plt.plot(weight_updates[:, 0], label='Wxh')\n",
        "    plt.plot(weight_updates[:, 1], label='Whh')\n",
        "    plt.plot(weight_updates[:, 2], label='Why')\n",
        "    plt.title('Tamanho do Ajuste de Peso ao Longo da Sequência (Uma Época)')\n",
        "    plt.xlabel('Período da Sequência')\n",
        "    plt.ylabel('Tamanho do Ajuste (Norma L2)')\n",
        "    plt.legend()\n",
        "    plt.grid(True)\n",
        "    plt.show()\n",
        "\n",
        "# Treinar a RNN e visualizar a propagação do erro\n",
        "train_rnn()\n"
      ],
      "metadata": {
        "colab": {
          "base_uri": "https://localhost:8080/",
          "height": 741
        },
        "id": "b64vCsj6F57y",
        "outputId": "3f6bfe03-6648-4670-b6c3-fca38fc710d6"
      },
      "execution_count": null,
      "outputs": [
        {
          "output_type": "stream",
          "name": "stdout",
          "text": [
            "Período 1: Ajustes de Wxh: 0.010448, Whh: 0.023140, Why: 0.324503\n",
            "Período 2: Ajustes de Wxh: 0.006796, Whh: 0.047295, Why: 0.666517\n",
            "Período 3: Ajustes de Wxh: 0.038489, Whh: 0.086030, Why: 1.213976\n",
            "Período 4: Ajustes de Wxh: 0.089270, Whh: 0.071055, Why: 1.002860\n",
            "Período 5: Ajustes de Wxh: 0.003320, Whh: 0.013023, Why: 0.182679\n",
            "Período 6: Ajustes de Wxh: 0.023573, Whh: 0.065207, Why: 0.912829\n",
            "Período 7: Ajustes de Wxh: 0.023329, Whh: 0.124385, Why: 1.744131\n",
            "Período 8: Ajustes de Wxh: 0.017690, Whh: 0.137018, Why: 1.927368\n",
            "Período 9: Ajustes de Wxh: 0.032085, Whh: 0.097800, Why: 1.380067\n",
            "Período 10: Ajustes de Wxh: 0.029033, Whh: 0.025598, Why: 0.363877\n"
          ]
        },
        {
          "output_type": "display_data",
          "data": {
            "text/plain": [
              "<Figure size 1000x600 with 1 Axes>"
            ],
            "image/png": "[encoded data removed]"
          },
          "metadata": {}
        }
      ]
    },
    {
      "cell_type": "markdown",
      "source": [
        "## Dataset com dados sintéticos\n",
        "\n"
      ],
      "metadata": {
        "id": "V2azGXY4dEMh"
      }
    },
    {
      "cell_type": "code",
      "source": [
        "# Gerar dados mais complexos\n",
        "def generate_complex_data(sequence_length, num_samples, noise=0.1):\n",
        "    x_values = np.linspace(0, 8 * np.pi, sequence_length)  # Aumentando o período\n",
        "    data = np.array([np.sin(x_values) + 0.5 * np.sin(2 * x_values + np.pi / 4) for _ in range(num_samples)])\n",
        "    data = data + noise * np.random.randn(num_samples, sequence_length)\n",
        "    data = data.reshape((num_samples, sequence_length, 1))\n",
        "    return torch.tensor(data, dtype=torch.float32)\n"
      ],
      "metadata": {
        "id": "UlikjYENdHbx"
      },
      "execution_count": null,
      "outputs": []
    },
    {
      "cell_type": "code",
      "source": [
        "# Gerar dados com dependências de longo alcance\n",
        "def generate_complex_data_with_noise(sequence_length, num_samples, noise=0.1):\n",
        "    intervals = np.linspace(0, 50 * np.pi, sequence_length)\n",
        "    data = np.sin(intervals) * np.sin(0.1 * intervals)\n",
        "    data = np.array([data for _ in range(num_samples)])\n",
        "    data = data + noise * np.random.randn(num_samples, sequence_length)\n",
        "    return torch.tensor(data, dtype=torch.float32).view(num_samples, sequence_length, -1)\n"
      ],
      "metadata": {
        "id": "wLYwJ_vNgu4Q"
      },
      "execution_count": null,
      "outputs": []
    },
    {
      "cell_type": "code",
      "source": [
        "# Parâmetros\n",
        "sequence_length = 400  # Aumentando o tamanho da sequência\n",
        "num_train_samples = 1000\n",
        "num_test_samples = 200\n",
        "\n",
        "train_data = generate_complex_data_with_noise(sequence_length, num_train_samples)\n",
        "test_data = generate_complex_data_with_noise(sequence_length, num_test_samples)"
      ],
      "metadata": {
        "id": "S0MRXzQCg4OK"
      },
      "execution_count": null,
      "outputs": []
    },
    {
      "cell_type": "markdown",
      "source": [
        "## Definimos os modelos"
      ],
      "metadata": {
        "id": "cpD8mEq2dUJl"
      }
    },
    {
      "cell_type": "code",
      "source": [
        "# Definir modelos\n",
        "class RNNModel(nn.Module):\n",
        "    def __init__(self, input_dim, hidden_dim):\n",
        "        super(RNNModel, self).__init__()\n",
        "        self.rnn = nn.RNN(input_dim, hidden_dim)\n",
        "        self.linear = nn.Linear(hidden_dim, 1)\n",
        "\n",
        "    def forward(self, x):\n",
        "        output, _ = self.rnn(x)\n",
        "        output = self.linear(output)\n",
        "        return output\n",
        "\n",
        "class LSTMModel(nn.Module):\n",
        "    def __init__(self, input_dim, hidden_dim):\n",
        "        super(LSTMModel, self).__init__()\n",
        "        self.lstm = nn.LSTM(input_dim, hidden_dim)\n",
        "        self.linear = nn.Linear(hidden_dim, 1)\n",
        "\n",
        "    def forward(self, x):\n",
        "        output, _ = self.lstm(x)\n",
        "        output = self.linear(output)\n",
        "        return output\n",
        "\n",
        "class GRUModel(nn.Module):\n",
        "    def __init__(self, input_dim, hidden_dim):\n",
        "        super(GRUModel, self).__init__()\n",
        "        self.gru = nn.GRU(input_dim, hidden_dim)\n",
        "        self.linear = nn.Linear(hidden_dim, 1)\n",
        "\n",
        "    def forward(self, x):\n",
        "        output, _ = self.gru(x)\n",
        "        output = self.linear(output)\n",
        "        return output"
      ],
      "metadata": {
        "id": "mnqTW28gdMOs"
      },
      "execution_count": null,
      "outputs": []
    },
    {
      "cell_type": "markdown",
      "source": [
        "## Definimos os otimizadores, etc."
      ],
      "metadata": {
        "id": "g5IEwA4XdaGj"
      }
    },
    {
      "cell_type": "code",
      "source": [
        "# Parâmetros\n",
        "input_dim = 1\n",
        "hidden_dim = 32\n",
        "learning_rate = 0.01\n",
        "num_epochs = 100\n",
        "\n",
        "# Instanciar modelos e otimizadores\n",
        "rnn_model = RNNModel(input_dim, hidden_dim)\n",
        "lstm_model = LSTMModel(input_dim, hidden_dim)\n",
        "gru_model = GRUModel(input_dim, hidden_dim)\n",
        "\n",
        "optimizer_rnn = optim.Adam(rnn_model.parameters(), lr=learning_rate)\n",
        "optimizer_lstm = optim.Adam(lstm_model.parameters(), lr=learning_rate)\n",
        "optimizer_gru = optim.Adam(gru_model.parameters(), lr=learning_rate)\n",
        "\n",
        "criterion = nn.MSELoss()"
      ],
      "metadata": {
        "id": "6qZvLTJadcrJ"
      },
      "execution_count": null,
      "outputs": []
    },
    {
      "cell_type": "markdown",
      "source": [
        "## Treino"
      ],
      "metadata": {
        "id": "uffArZlVdmHh"
      }
    },
    {
      "cell_type": "code",
      "source": [
        "import time\n",
        "\n",
        "# Treinamento\n",
        "def train_model(model, optimizer):\n",
        "    loss_history = []\n",
        "    for epoch in range(num_epochs):\n",
        "        model.train()\n",
        "        optimizer.zero_grad()\n",
        "        output = model(train_data)\n",
        "        loss = criterion(output[:, :-1, :], train_data[:, 1:, :])\n",
        "        loss.backward()\n",
        "        optimizer.step()\n",
        "        loss_history.append(loss.item())\n",
        "    return loss_history\n",
        "\n",
        "# Função para treinar e cronometrar o modelo\n",
        "def train_and_time_model(model, optimizer):\n",
        "    start_time = time.time()\n",
        "    loss_curve = train_model(model, optimizer)\n",
        "    end_time = time.time()\n",
        "    elapsed_time = end_time - start_time\n",
        "    return loss_curve, elapsed_time"
      ],
      "metadata": {
        "id": "Y2UocxlSddsE"
      },
      "execution_count": null,
      "outputs": []
    },
    {
      "cell_type": "markdown",
      "source": [
        "## Teste e comparação"
      ],
      "metadata": {
        "id": "SSumUag2dh9o"
      }
    },
    {
      "cell_type": "code",
      "source": [
        "# Avaliar modelos em conjunto de testes\n",
        "def evaluate_model(model, test_data):\n",
        "    model.eval()\n",
        "    with torch.no_grad():\n",
        "        output = model(test_data)\n",
        "        loss = criterion(output[:, :-1, :], test_data[:, 1:, :])\n",
        "    return loss.item()\n",
        "\n",
        "# Treinamento e cronometragem\n",
        "rnn_loss, rnn_time = train_and_time_model(rnn_model, optimizer_rnn)\n",
        "lstm_loss, lstm_time = train_and_time_model(lstm_model, optimizer_lstm)\n",
        "gru_loss, gru_time = train_and_time_model(gru_model, optimizer_gru)\n",
        "\n",
        "\n",
        "# Avaliação\n",
        "rnn_test_loss = evaluate_model(rnn_model, test_data)\n",
        "lstm_test_loss = evaluate_model(lstm_model, test_data)\n",
        "gru_test_loss = evaluate_model(gru_model, test_data)\n",
        "\n",
        "print(f'RNN Test Loss: {rnn_test_loss}, Time: {rnn_time:.2f} seconds')\n",
        "print(f'LSTM Test Loss: {lstm_test_loss}, Time: {lstm_time:.2f} seconds')\n",
        "print(f'GRU Test Loss: {gru_test_loss}, Time: {gru_time:.2f} seconds')\n",
        "\n",
        "# Plotar as curvas de perda de treinamento\n",
        "plt.figure()\n",
        "plt.plot(rnn_loss, label='RNN Training Loss')\n",
        "plt.plot(lstm_loss, label='LSTM Training Loss')\n",
        "plt.plot(gru_loss, label='GRU Training Loss')\n",
        "plt.xlabel('Epochs')\n",
        "plt.ylabel('Loss')\n",
        "plt.legend()\n",
        "plt.show()"
      ],
      "metadata": {
        "colab": {
          "base_uri": "https://localhost:8080/",
          "height": 501
        },
        "id": "LC0oir__dhkG",
        "outputId": "78b811db-eded-47d9-a419-6aa7d1739cf0"
      },
      "execution_count": null,
      "outputs": [
        {
          "output_type": "stream",
          "name": "stdout",
          "text": [
            "RNN Test Loss: 0.04998217150568962, Time: 39.76 seconds\n",
            "LSTM Test Loss: 0.04977691173553467, Time: 139.75 seconds\n",
            "GRU Test Loss: 0.04849305748939514, Time: 113.86 seconds\n"
          ]
        },
        {
          "output_type": "display_data",
          "data": {
            "text/plain": [
              "<Figure size 640x480 with 1 Axes>"
            ],
            "image/png": "[encoded data removed]"
          },
          "metadata": {}
        }
      ]
    },
    {
      "cell_type": "markdown",
      "source": [
        "# Problema de processamento de texto"
      ],
      "metadata": {
        "id": "yGcx_vXTJxAh"
      }
    },
    {
      "cell_type": "markdown",
      "source": [
        "## Preparação do dataset"
      ],
      "metadata": {
        "id": "41C7CL1SJ1Js"
      }
    },
    {
      "cell_type": "code",
      "source": [
        "# Importing required libraries\n",
        "import torch\n",
        "import torch.nn as nn\n",
        "import torch.optim as optim\n",
        "import numpy as np\n",
        "from nltk.corpus import gutenberg\n",
        "import nltk\n",
        "from nltk.tokenize import word_tokenize\n",
        "from collections import Counter\n",
        "\n",
        "# Download the Gutenberg dataset from NLTK\n",
        "nltk.download('gutenberg')\n",
        "nltk.download('punkt')\n",
        "\n",
        "# 1. Preprocess the data\n",
        "# Using \"Hamlet\" by Shakespeare from the Gutenberg corpus as a small, public domain text\n",
        "text = gutenberg.raw('shakespeare-hamlet.txt').lower()[:]  # Using a subset for demonstration\n",
        "\n",
        "# Tokenize words and create vocabulary\n",
        "words = word_tokenize(text)\n",
        "vocab = set(words)\n",
        "word_to_idx = {word: i for i, word in enumerate(vocab)}\n",
        "idx_to_word = {i: word for i, word in enumerate(vocab)}\n",
        "\n",
        "# Encode text as sequences of word indices\n",
        "encoded_text = [word_to_idx[word] for word in words]\n",
        "\n",
        "# Create input-output pairs for training\n",
        "sequence_length = 4\n",
        "sequences = []\n",
        "targets = []\n",
        "for i in range(len(encoded_text) - sequence_length):\n",
        "    sequences.append(encoded_text[i:i + sequence_length])\n",
        "    targets.append(encoded_text[i + sequence_length])\n",
        "\n",
        "sequences = torch.tensor(sequences)\n",
        "targets = torch.tensor(targets)"
      ],
      "metadata": {
        "id": "fb974de5dpiC",
        "colab": {
          "base_uri": "https://localhost:8080/"
        },
        "outputId": "123c3e74-e292-4267-f881-9e3e4599ee12"
      },
      "execution_count": null,
      "outputs": [
        {
          "output_type": "stream",
          "name": "stderr",
          "text": [
            "[nltk_data] Downloading package gutenberg to /root/nltk_data...\n",
            "[nltk_data]   Package gutenberg is already up-to-date!\n",
            "[nltk_data] Downloading package punkt to /root/nltk_data...\n",
            "[nltk_data]   Package punkt is already up-to-date!\n"
          ]
        }
      ]
    },
    {
      "cell_type": "code",
      "source": [
        "len(gutenberg.raw('shakespeare-hamlet.txt').lower())"
      ],
      "metadata": {
        "colab": {
          "base_uri": "https://localhost:8080/"
        },
        "id": "Q6JCdEB3iQ2b",
        "outputId": "0044928c-5e55-4e37-ff1a-909dc565339b"
      },
      "execution_count": null,
      "outputs": [
        {
          "output_type": "execute_result",
          "data": {
            "text/plain": [
              "162881"
            ]
          },
          "metadata": {},
          "execution_count": 19
        }
      ]
    },
    {
      "cell_type": "markdown",
      "source": [
        "## Classe da rede neural recorrente"
      ],
      "metadata": {
        "id": "UUXjoSvLJ7Un"
      }
    },
    {
      "cell_type": "code",
      "source": [
        "class WordPredictorRNN(nn.Module):\n",
        "    def __init__(self, vocab_size, embedding_dim, hidden_dim):\n",
        "        super(WordPredictorRNN, self).__init__()\n",
        "        self.embedding = nn.Embedding(vocab_size, embedding_dim)\n",
        "        self.rnn = nn.RNN(embedding_dim, hidden_dim, batch_first=True)\n",
        "        self.fc = nn.Linear(hidden_dim, vocab_size)\n",
        "\n",
        "    def forward(self, x, hidden):\n",
        "        x = self.embedding(x)\n",
        "        out, hidden = self.rnn(x, hidden)\n",
        "        out = self.fc(out[:, -1, :])  # Predict using the last time step\n",
        "        return out, hidden\n"
      ],
      "metadata": {
        "id": "eWRQHONBJ6ki"
      },
      "execution_count": null,
      "outputs": []
    },
    {
      "cell_type": "markdown",
      "source": [
        "## Treinamento da rede recorrente"
      ],
      "metadata": {
        "id": "I9KSc8MuKKOo"
      }
    },
    {
      "cell_type": "code",
      "source": [
        "vocab_size = len(vocab)\n",
        "embedding_dim = 50\n",
        "hidden_dim = 50\n",
        "\n",
        "model = WordPredictorRNN(vocab_size, embedding_dim, hidden_dim)\n",
        "criterion = nn.CrossEntropyLoss()\n",
        "optimizer = optim.Adam(model.parameters(), lr=0.01)\n",
        "# 3. Train the model\n",
        "num_epochs = 200\n",
        "for epoch in range(num_epochs):\n",
        "    hidden = None  # Hidden state reset for each epoch\n",
        "    optimizer.zero_grad()\n",
        "    output, hidden = model(sequences, hidden)\n",
        "    loss = criterion(output, targets)\n",
        "    loss.backward()\n",
        "    optimizer.step()\n",
        "\n",
        "    if (epoch + 1) % 10 == 0:\n",
        "        print(f'Epoch [{epoch + 1}/{num_epochs}], Loss: {loss.item():.4f}')\n"
      ],
      "metadata": {
        "id": "dHyFto0dKOE1",
        "colab": {
          "base_uri": "https://localhost:8080/"
        },
        "outputId": "0ea5e19f-13db-40d1-98a9-920bf12378d0"
      },
      "execution_count": null,
      "outputs": [
        {
          "output_type": "stream",
          "name": "stdout",
          "text": [
            "Epoch [10/200], Loss: 6.1700\n",
            "Epoch [20/200], Loss: 5.7176\n",
            "Epoch [30/200], Loss: 5.2879\n",
            "Epoch [40/200], Loss: 4.8975\n",
            "Epoch [50/200], Loss: 4.5530\n",
            "Epoch [60/200], Loss: 4.2567\n",
            "Epoch [70/200], Loss: 4.0015\n",
            "Epoch [80/200], Loss: 3.7779\n",
            "Epoch [90/200], Loss: 3.5768\n",
            "Epoch [100/200], Loss: 3.3906\n",
            "Epoch [110/200], Loss: 3.2147\n",
            "Epoch [120/200], Loss: 3.0455\n",
            "Epoch [130/200], Loss: 2.8836\n",
            "Epoch [140/200], Loss: 2.7306\n",
            "Epoch [150/200], Loss: 2.5887\n",
            "Epoch [160/200], Loss: 2.4561\n",
            "Epoch [170/200], Loss: 2.3341\n",
            "Epoch [180/200], Loss: 2.2243\n",
            "Epoch [190/200], Loss: 2.1225\n",
            "Epoch [200/200], Loss: 2.0322\n"
          ]
        }
      ]
    },
    {
      "cell_type": "markdown",
      "source": [
        "#Inferência"
      ],
      "metadata": {
        "id": "kCTfUNaqKS_Y"
      }
    },
    {
      "cell_type": "code",
      "source": [
        "# 4. Inference with activation visualization\n",
        "def predict_next_words(input_words, model, hidden=None):\n",
        "    model.eval()  # Set model to evaluation mode\n",
        "    input_idx = [word_to_idx[word] for word in input_words]\n",
        "    input_tensor = torch.tensor(input_idx).unsqueeze(0)\n",
        "\n",
        "    with torch.no_grad():\n",
        "        activations = []\n",
        "        for i in range(input_tensor.size(1)):\n",
        "            out, hidden = model(input_tensor[:, :i+1], hidden)\n",
        "            activations.append(hidden.squeeze().numpy())  # Store hidden states\n",
        "        predicted_idx = torch.argmax(out, dim=1).item()\n",
        "        predicted_word = idx_to_word[predicted_idx]\n",
        "\n",
        "    return predicted_word, activations\n",
        "\n",
        "# Demonstrate prediction with activations\n",
        "input_words = words[1:sequence_length+1]  # Example input of 4 words\n",
        "predicted_word, activations = predict_next_words(input_words, model)\n",
        "\n",
        "print(\"Input words:\", input_words)\n",
        "print(\"Predicted next word:\", predicted_word)\n",
        "print(\"RNN activations for each word in the sequence:\")\n",
        "for i, activation in enumerate(activations):\n",
        "    print(f\"Word {i+1} '{input_words[i]}': Activation -\", activation)"
      ],
      "metadata": {
        "id": "7j2IvRVmKSpO",
        "colab": {
          "base_uri": "https://localhost:8080/"
        },
        "outputId": "39400968-6e87-4398-e1b3-aa468038a3f7"
      },
      "execution_count": null,
      "outputs": [
        {
          "output_type": "stream",
          "name": "stdout",
          "text": [
            "Input words: ['the', 'tragedie', 'of', 'hamlet']\n",
            "Predicted next word: ,\n",
            "RNN activations for each word in the sequence:\n",
            "Word 1 'the': Activation - [ 0.03978153  0.9999994   0.39908192 -0.2756597  -0.99998635 -0.9999997\n",
            " -0.5351892  -0.9996694   0.9147393  -0.9999999   0.68243146 -0.9618968\n",
            " -0.3897405   0.9999995   0.9995688  -1.         -0.9999999  -0.9913404\n",
            "  1.          0.99990696 -0.997341    0.9999966   0.3634146   0.9999991\n",
            "  1.         -0.02664138 -0.5997328   0.99999887  0.8619756  -0.7858214\n",
            " -0.65037185  0.99481624 -0.9997831   0.98885524 -0.98975027  0.13603379\n",
            " -0.9998034   0.9761625   1.          0.9999989  -0.99999607 -0.9975663\n",
            " -0.99998313  0.99219215 -0.95949996 -0.9534567  -0.4622126  -0.95011765\n",
            " -0.9970745  -0.99258286]\n",
            "Word 2 'tragedie': Activation - [-0.9981744  -1.          0.9780083   0.3006268   1.          0.9999934\n",
            " -0.8742411  -0.9987497  -0.95520306  0.9999862  -0.99998564  0.99998784\n",
            "  1.          0.99812675  0.9610688   0.99999994  0.9999997  -0.3125034\n",
            " -0.9992703   0.92352253  0.99991876 -0.99999756 -0.4994723  -0.99999094\n",
            "  0.9802963  -1.         -1.         -0.25105226  0.9999992  -0.99978024\n",
            "  0.15479968 -0.9992622  -0.9968967   0.9529275   0.9994845   0.15482843\n",
            " -0.99999726  0.38132295  0.8918705  -0.41951007 -0.9935604   0.9998812\n",
            "  0.99884117 -1.          0.9976819  -0.99989194  0.9994461  -0.0045428\n",
            "  0.95946115 -1.        ]\n",
            "Word 3 'of': Activation - [ 0.9872039  -0.7220951   0.99999624  1.          0.999626    0.9999999\n",
            " -0.79210347 -0.9999988  -0.99999994  0.9192917   0.9993412  -0.9999998\n",
            " -1.         -0.9843463   0.97133404 -0.27010632  0.613376   -1.\n",
            " -0.9959664   0.99202764  0.4305369   0.9999998  -0.9999676   0.99999994\n",
            " -0.61183465  0.9941532   1.         -0.9816763   0.9999929  -0.9572233\n",
            " -0.9999372   0.92363507 -0.9999241   0.9999998   0.99912035  0.9999439\n",
            "  1.         -0.99978745  0.85705    -1.          0.98796946  0.26451975\n",
            " -0.73122233  0.9294623   0.9995699  -0.99640155  0.9999126  -0.99999934\n",
            "  0.9999399  -0.9999112 ]\n",
            "Word 4 'hamlet': Activation - [ 0.99969727 -0.99999994  0.999999    0.9999681  -0.18557501  0.99963623\n",
            " -0.9999999  -0.9999981  -0.9999997   1.         -0.99509233 -0.9999827\n",
            "  0.99999994  1.         -0.9639712   0.11375448 -0.4568324  -0.99999577\n",
            " -0.9999985   0.9999999  -1.         -1.         -0.8250472  -0.99982536\n",
            " -0.9998961  -0.99646735  0.9987599   0.45353854  0.9999999  -0.99999756\n",
            " -0.99999875  1.         -0.99921983  1.          0.99997693  0.9999999\n",
            "  0.9999996  -0.9999997  -0.9942157   0.92692983 -0.9999999   0.9999966\n",
            "  0.9980848  -1.          0.9999889   0.08418093  0.9999973  -0.99999976\n",
            "  0.9948379  -0.99984354]\n"
          ]
        }
      ]
    },
    {
      "cell_type": "code",
      "source": [],
      "metadata": {
        "id": "yOgSlXBNnfKS"
      },
      "execution_count": null,
      "outputs": []
    }
  ]
}