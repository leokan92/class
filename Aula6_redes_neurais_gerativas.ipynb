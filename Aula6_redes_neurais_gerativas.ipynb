{
  "nbformat": 4,
  "nbformat_minor": 0,
  "metadata": {
    "colab": {
      "provenance": [],
      "gpuType": "T4",
      "authorship_tag": "ABX9TyNu6VQvXQnSzMprNajk/pue",
      "include_colab_link": true
    },
    "kernelspec": {
      "name": "python3",
      "display_name": "Python 3"
    },
    "language_info": {
      "name": "python"
    },
    "accelerator": "GPU"
  },
  "cells": [
    {
      "cell_type": "markdown",
      "metadata": {
        "id": "view-in-github",
        "colab_type": "text"
      },
      "source": [
        "<a href=\"https://colab.research.google.com/github/leokan92/class/blob/main/Aula6_redes_neurais_gerativas.ipynb\" target=\"_parent\"><img src=\"https://colab.research.google.com/assets/colab-badge.svg\" alt=\"Open In Colab\"/></a>"
      ]
    },
    {
      "cell_type": "markdown",
      "source": [
        "# Aula 6 - Redes neurais gerativas"
      ],
      "metadata": {
        "id": "2CPuvYNLL6MK"
      }
    },
    {
      "cell_type": "code",
      "execution_count": null,
      "metadata": {
        "id": "AGu-jF1YLxNO"
      },
      "outputs": [],
      "source": [
        "import torch\n",
        "from torch import nn, optim\n",
        "from torchvision import datasets, transforms\n",
        "from torchvision.utils import save_image\n",
        "from torch.utils.data import DataLoader\n"
      ]
    },
    {
      "cell_type": "markdown",
      "source": [
        "## Carregando o MNIST"
      ],
      "metadata": {
        "id": "5L4RKmFks4Rp"
      }
    },
    {
      "cell_type": "code",
      "source": [
        "# Definindo o dispositivo de hardware (GPU se disponível)\n",
        "device = torch.device(\"cuda\" if torch.cuda.is_available() else \"cpu\")\n",
        "\n",
        "# Transformações para os dados de entrada\n",
        "transform = transforms.Compose([\n",
        "    transforms.ToTensor(),\n",
        "    transforms.Normalize((0.5,), (0.5,))\n",
        "])\n",
        "\n",
        "# Carregando o dataset MNIST\n",
        "mnist = datasets.MNIST(root='./data', train=True, download=True, transform=transform)\n",
        "data_loader = DataLoader(mnist, batch_size=100, shuffle=True)"
      ],
      "metadata": {
        "colab": {
          "base_uri": "https://localhost:8080/"
        },
        "id": "ahADrcfOs6Rx",
        "outputId": "e129a3c6-d150-46eb-ee1a-7ca1614ce1f5"
      },
      "execution_count": null,
      "outputs": [
        {
          "output_type": "stream",
          "name": "stdout",
          "text": [
            "Downloading http://yann.lecun.com/exdb/mnist/train-images-idx3-ubyte.gz\n",
            "Downloading http://yann.lecun.com/exdb/mnist/train-images-idx3-ubyte.gz to ./data/MNIST/raw/train-images-idx3-ubyte.gz\n"
          ]
        },
        {
          "output_type": "stream",
          "name": "stderr",
          "text": [
            "100%|██████████| 9912422/9912422 [00:00<00:00, 33881191.10it/s]\n"
          ]
        },
        {
          "output_type": "stream",
          "name": "stdout",
          "text": [
            "Extracting ./data/MNIST/raw/train-images-idx3-ubyte.gz to ./data/MNIST/raw\n",
            "\n",
            "Downloading http://yann.lecun.com/exdb/mnist/train-labels-idx1-ubyte.gz\n",
            "Downloading http://yann.lecun.com/exdb/mnist/train-labels-idx1-ubyte.gz to ./data/MNIST/raw/train-labels-idx1-ubyte.gz\n"
          ]
        },
        {
          "output_type": "stream",
          "name": "stderr",
          "text": [
            "100%|██████████| 28881/28881 [00:00<00:00, 103800937.30it/s]\n"
          ]
        },
        {
          "output_type": "stream",
          "name": "stdout",
          "text": [
            "Extracting ./data/MNIST/raw/train-labels-idx1-ubyte.gz to ./data/MNIST/raw\n",
            "\n",
            "Downloading http://yann.lecun.com/exdb/mnist/t10k-images-idx3-ubyte.gz\n",
            "Downloading http://yann.lecun.com/exdb/mnist/t10k-images-idx3-ubyte.gz to ./data/MNIST/raw/t10k-images-idx3-ubyte.gz\n"
          ]
        },
        {
          "output_type": "stream",
          "name": "stderr",
          "text": [
            "100%|██████████| 1648877/1648877 [00:00<00:00, 17411741.27it/s]\n"
          ]
        },
        {
          "output_type": "stream",
          "name": "stdout",
          "text": [
            "Extracting ./data/MNIST/raw/t10k-images-idx3-ubyte.gz to ./data/MNIST/raw\n",
            "\n",
            "Downloading http://yann.lecun.com/exdb/mnist/t10k-labels-idx1-ubyte.gz\n",
            "Downloading http://yann.lecun.com/exdb/mnist/t10k-labels-idx1-ubyte.gz to ./data/MNIST/raw/t10k-labels-idx1-ubyte.gz\n"
          ]
        },
        {
          "output_type": "stream",
          "name": "stderr",
          "text": [
            "100%|██████████| 4542/4542 [00:00<00:00, 17972196.95it/s]"
          ]
        },
        {
          "output_type": "stream",
          "name": "stdout",
          "text": [
            "Extracting ./data/MNIST/raw/t10k-labels-idx1-ubyte.gz to ./data/MNIST/raw\n",
            "\n"
          ]
        },
        {
          "output_type": "stream",
          "name": "stderr",
          "text": [
            "\n"
          ]
        }
      ]
    },
    {
      "cell_type": "markdown",
      "source": [
        "## Definindo a rede geradora (arquitetura)"
      ],
      "metadata": {
        "id": "aeaDUS8xtAT_"
      }
    },
    {
      "cell_type": "code",
      "source": [
        "# Definindo o Gerador\n",
        "class Generator(nn.Module):\n",
        "    def __init__(self):\n",
        "        super(Generator, self).__init__()\n",
        "        self.main = nn.Sequential(\n",
        "            nn.Linear(100, 256),\n",
        "            nn.LeakyReLU(0.2),\n",
        "            nn.Linear(256, 512),\n",
        "            nn.LeakyReLU(0.2),\n",
        "            nn.Linear(512, 1024),\n",
        "            nn.LeakyReLU(0.2),\n",
        "            nn.Linear(1024, 28*28),\n",
        "            nn.Tanh()\n",
        "        )\n",
        "\n",
        "    def forward(self, input):\n",
        "        return self.main(input).view(-1, 1, 28, 28)\n",
        "\n",
        "# Definindo o Discriminador\n",
        "class Discriminator(nn.Module):\n",
        "    def __init__(self):\n",
        "        super(Discriminator, self).__init__()\n",
        "        self.main = nn.Sequential(\n",
        "            nn.Linear(28*28, 1024),\n",
        "            nn.LeakyReLU(0.2),\n",
        "            nn.Dropout(0.3),\n",
        "            nn.Linear(1024, 512),\n",
        "            nn.LeakyReLU(0.2),\n",
        "            nn.Dropout(0.3),\n",
        "            nn.Linear(512, 256),\n",
        "            nn.LeakyReLU(0.2),\n",
        "            nn.Dropout(0.3),\n",
        "            nn.Linear(256, 1),\n",
        "            nn.Sigmoid()\n",
        "        )\n",
        "\n",
        "    def forward(self, input):\n",
        "        input = input.view(-1, 28*28)\n",
        "        return self.main(input)"
      ],
      "metadata": {
        "id": "t-HB-gMvs7iD"
      },
      "execution_count": null,
      "outputs": []
    },
    {
      "cell_type": "markdown",
      "source": [
        "## Instanciando função de perda e otimizadores\n"
      ],
      "metadata": {
        "id": "WDtQKfPntFDu"
      }
    },
    {
      "cell_type": "code",
      "source": [
        "# Instanciando o Gerador e o Discriminador\n",
        "generator = Generator().to(device)\n",
        "discriminator = Discriminator().to(device)\n",
        "\n",
        "# Otimizadores\n",
        "g_optimizer = optim.Adam(generator.parameters(), lr=0.0002)\n",
        "d_optimizer = optim.Adam(discriminator.parameters(), lr=0.0002)\n",
        "\n",
        "# Função de perda\n",
        "criterion = nn.BCELoss()"
      ],
      "metadata": {
        "id": "MEtyE9W_tDPS"
      },
      "execution_count": null,
      "outputs": []
    },
    {
      "cell_type": "markdown",
      "source": [
        "## Treinamento da rede"
      ],
      "metadata": {
        "id": "mkrFaLVPtP4b"
      }
    },
    {
      "cell_type": "code",
      "source": [
        "# Função para criar ruído\n",
        "def noise(size):\n",
        "    n = torch.randn(size, 100)\n",
        "    return n.to(device)\n",
        "\n",
        "# Treinamento da GAN\n",
        "num_epochs = 30\n",
        "for epoch in range(num_epochs):\n",
        "    for n_batch, (real_batch, _) in enumerate(data_loader):\n",
        "        N = real_batch.size(0)\n",
        "\n",
        "        # Treinando o Discriminador\n",
        "        real_data = real_batch.to(device)\n",
        "        fake_data = generator(noise(N)).detach()\n",
        "        d_real_decision = discriminator(real_data)\n",
        "        d_fake_decision = discriminator(fake_data)\n",
        "        d_real_loss = criterion(d_real_decision, torch.ones(N, 1).to(device))\n",
        "        d_fake_loss = criterion(d_fake_decision, torch.zeros(N, 1).to(device))\n",
        "\n",
        "        d_optimizer.zero_grad()\n",
        "        d_real_loss.backward()\n",
        "        d_fake_loss.backward()\n",
        "        d_optimizer.step()\n",
        "\n",
        "        # Treinando o Gerador\n",
        "        fake_data = generator(noise(N))\n",
        "        g_decision = discriminator(fake_data)\n",
        "        g_loss = criterion(g_decision, torch.ones(N, 1).to(device))\n",
        "\n",
        "        g_optimizer.zero_grad()\n",
        "        g_loss.backward()\n",
        "        g_optimizer.step()\n",
        "\n",
        "    print(f'Epoch {epoch+1}/{num_epochs} Discriminator Loss: {d_real_loss.item()} Generator Loss: {g_loss.item()}')\n",
        "\n",
        "    # Salvando imagens geradas após a última época\n",
        "    if (epoch == num_epochs-1):\n",
        "        save_image(fake_data.view(fake_data.size(0), 1, 28, 28), f'generated_digit_epoch_{epoch}.png')\n",
        "\n",
        "\n",
        "print('Treinamento concluído')"
      ],
      "metadata": {
        "colab": {
          "base_uri": "https://localhost:8080/"
        },
        "id": "XFXempqwtLu6",
        "outputId": "6ac334e4-b637-4fe4-e9c8-ceca8a13a7a6"
      },
      "execution_count": null,
      "outputs": [
        {
          "output_type": "stream",
          "name": "stdout",
          "text": [
            "Epoch 1/30 Discriminator Loss: 0.120456263422966 Generator Loss: 10.457273483276367\n",
            "Epoch 2/30 Discriminator Loss: 0.12063977122306824 Generator Loss: 3.6400506496429443\n",
            "Epoch 3/30 Discriminator Loss: 0.41377368569374084 Generator Loss: 1.414211392402649\n",
            "Epoch 4/30 Discriminator Loss: 0.2432544082403183 Generator Loss: 1.9376534223556519\n",
            "Epoch 5/30 Discriminator Loss: 0.31836193799972534 Generator Loss: 3.891700267791748\n",
            "Epoch 6/30 Discriminator Loss: 0.18288375437259674 Generator Loss: 3.8917622566223145\n",
            "Epoch 7/30 Discriminator Loss: 0.11091281473636627 Generator Loss: 3.0494303703308105\n",
            "Epoch 8/30 Discriminator Loss: 0.33549928665161133 Generator Loss: 1.783963918685913\n",
            "Epoch 9/30 Discriminator Loss: 0.20133067667484283 Generator Loss: 2.993497133255005\n",
            "Epoch 10/30 Discriminator Loss: 0.38886526226997375 Generator Loss: 2.792889356613159\n",
            "Epoch 11/30 Discriminator Loss: 0.3013026714324951 Generator Loss: 2.378472089767456\n",
            "Epoch 12/30 Discriminator Loss: 0.31958121061325073 Generator Loss: 2.506082773208618\n",
            "Epoch 13/30 Discriminator Loss: 0.3447134792804718 Generator Loss: 2.4777467250823975\n",
            "Epoch 14/30 Discriminator Loss: 0.3340595066547394 Generator Loss: 2.164301633834839\n",
            "Epoch 15/30 Discriminator Loss: 0.2284734696149826 Generator Loss: 1.8854308128356934\n",
            "Epoch 16/30 Discriminator Loss: 0.3644677698612213 Generator Loss: 2.478549003601074\n",
            "Epoch 17/30 Discriminator Loss: 0.4256332218647003 Generator Loss: 1.5612536668777466\n",
            "Epoch 18/30 Discriminator Loss: 0.4205775260925293 Generator Loss: 2.112464189529419\n",
            "Epoch 19/30 Discriminator Loss: 0.3664337694644928 Generator Loss: 1.7126885652542114\n",
            "Epoch 20/30 Discriminator Loss: 0.46300387382507324 Generator Loss: 2.5039689540863037\n",
            "Epoch 21/30 Discriminator Loss: 0.42811504006385803 Generator Loss: 1.9087053537368774\n",
            "Epoch 22/30 Discriminator Loss: 0.6657040119171143 Generator Loss: 1.7254137992858887\n",
            "Epoch 23/30 Discriminator Loss: 0.39200499653816223 Generator Loss: 1.682546615600586\n",
            "Epoch 24/30 Discriminator Loss: 0.427624374628067 Generator Loss: 1.686870813369751\n",
            "Epoch 25/30 Discriminator Loss: 0.732143223285675 Generator Loss: 1.6085134744644165\n",
            "Epoch 26/30 Discriminator Loss: 0.592200756072998 Generator Loss: 2.1656994819641113\n",
            "Epoch 27/30 Discriminator Loss: 0.7104586362838745 Generator Loss: 1.0616657733917236\n",
            "Epoch 28/30 Discriminator Loss: 0.6529316306114197 Generator Loss: 1.0427519083023071\n",
            "Epoch 29/30 Discriminator Loss: 0.4422903060913086 Generator Loss: 1.2628408670425415\n",
            "Epoch 30/30 Discriminator Loss: 0.45342710614204407 Generator Loss: 1.2503868341445923\n",
            "Treinamento concluído\n"
          ]
        }
      ]
    },
    {
      "cell_type": "code",
      "source": [
        "# Exibindo um dígito gerado\n",
        "import matplotlib.pyplot as plt\n",
        "# Exibindo um dígito gerado\n",
        "fake_data = generator(noise(1)).detach()\n",
        "fake_data = fake_data.view(fake_data.size(0), 28, 28)\n",
        "plt.imshow(fake_data.cpu().squeeze(), cmap='gray')\n",
        "plt.show()"
      ],
      "metadata": {
        "colab": {
          "base_uri": "https://localhost:8080/",
          "height": 430
        },
        "id": "7SAnpLRWtZRH",
        "outputId": "16f82c0a-6755-42b9-9da1-a5c3564b64e1"
      },
      "execution_count": null,
      "outputs": [
        {
          "output_type": "display_data",
          "data": {
            "text/plain": [
              "<Figure size 640x480 with 1 Axes>"
            ],
            "image/png": "[encoded data removed]"
          },
          "metadata": {}
        }
      ]
    }
  ]
}