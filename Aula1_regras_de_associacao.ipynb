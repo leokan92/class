{
  "nbformat": 4,
  "nbformat_minor": 0,
  "metadata": {
    "colab": {
      "provenance": [],
      "authorship_tag": "ABX9TyMGeG32xSfe56QAmvTzbhb9",
      "include_colab_link": true
    },
    "kernelspec": {
      "name": "python3",
      "display_name": "Python 3"
    },
    "language_info": {
      "name": "python"
    }
  },
  "cells": [
    {
      "cell_type": "markdown",
      "metadata": {
        "id": "view-in-github",
        "colab_type": "text"
      },
      "source": [
        "<a href=\"https://colab.research.google.com/github/leokan92/class/blob/main/Aula1_regras_de_associacao.ipynb\" target=\"_parent\"><img src=\"https://colab.research.google.com/assets/colab-badge.svg\" alt=\"Open In Colab\"/></a>"
      ]
    },
    {
      "cell_type": "code",
      "source": [
        "!pip install apyori\n",
        "!pip install pyfpgrowth"
      ],
      "metadata": {
        "colab": {
          "base_uri": "https://localhost:8080/"
        },
        "id": "fwJIJKZMTtaG",
        "outputId": "7bbb9b3e-d203-4641-93c4-5ecf87de3a4e"
      },
      "execution_count": null,
      "outputs": [
        {
          "output_type": "stream",
          "name": "stdout",
          "text": [
            "Collecting apyori\n",
            "  Downloading apyori-1.1.2.tar.gz (8.6 kB)\n",
            "  Preparing metadata (setup.py) ... \u001b[?25l\u001b[?25hdone\n",
            "Building wheels for collected packages: apyori\n",
            "  Building wheel for apyori (setup.py) ... \u001b[?25l\u001b[?25hdone\n",
            "  Created wheel for apyori: filename=apyori-1.1.2-py3-none-any.whl size=5955 sha256=06cc8c2ea31d19e157d9d87638bf1bf042f248f4a60aa662eb98e36eac16fa23\n",
            "  Stored in directory: /root/.cache/pip/wheels/c4/1a/79/20f55c470a50bb3702a8cb7c94d8ada15573538c7f4baebe2d\n",
            "Successfully built apyori\n",
            "Installing collected packages: apyori\n",
            "Successfully installed apyori-1.1.2\n",
            "Collecting pyfpgrowth\n",
            "  Downloading pyfpgrowth-1.0.tar.gz (1.6 MB)\n",
            "\u001b[2K     \u001b[90m━━━━━━━━━━━━━━━━━━━━━━━━━━━━━━━━━━━━━━━━\u001b[0m \u001b[32m1.6/1.6 MB\u001b[0m \u001b[31m7.4 MB/s\u001b[0m eta \u001b[36m0:00:00\u001b[0m\n",
            "\u001b[?25h  Preparing metadata (setup.py) ... \u001b[?25l\u001b[?25hdone\n",
            "Building wheels for collected packages: pyfpgrowth\n",
            "  Building wheel for pyfpgrowth (setup.py) ... \u001b[?25l\u001b[?25hdone\n",
            "  Created wheel for pyfpgrowth: filename=pyfpgrowth-1.0-py2.py3-none-any.whl size=5488 sha256=98f3816dc915a1c17afc77583e186ba8f402b21939720827497a74a2c9df7284\n",
            "  Stored in directory: /root/.cache/pip/wheels/09/fc/dc/afff211038bfc745722d8d7e846e854e5791968b22c570a530\n",
            "Successfully built pyfpgrowth\n",
            "Installing collected packages: pyfpgrowth\n",
            "Successfully installed pyfpgrowth-1.0\n"
          ]
        }
      ]
    },
    {
      "cell_type": "markdown",
      "source": [
        "# Aula 1 - Regras de associação"
      ],
      "metadata": {
        "id": "tsnlUXTAKX8A"
      }
    },
    {
      "cell_type": "markdown",
      "source": [
        "##Definimos os dados usados na demonstração"
      ],
      "metadata": {
        "id": "8PAJI-_RKfvo"
      }
    },
    {
      "cell_type": "code",
      "execution_count": null,
      "metadata": {
        "id": "jlns13JgWvd8"
      },
      "outputs": [],
      "source": [
        "Transactions = [\n",
        "    ['I1', 'I2', 'I5'],\n",
        "    ['I2', 'I4'],\n",
        "    ['I2', 'I3'],\n",
        "    ['I1', 'I2', 'I4'],\n",
        "    ['I1', 'I3'],\n",
        "    ['I2', 'I3'],\n",
        "    ['I1', 'I3'],\n",
        "    ['I1', 'I2', 'I3', 'I5'],\n",
        "    ['I1', 'I2', 'I3']\n",
        "]"
      ]
    },
    {
      "cell_type": "code",
      "source": [
        "order = ['I' + str(i) for i in range (1,6)]\n",
        "display(order)"
      ],
      "metadata": {
        "colab": {
          "base_uri": "https://localhost:8080/",
          "height": 35
        },
        "id": "4suxIXrXX11L",
        "outputId": "2b92a549-01b7-4571-9d68-b5ea106086bf"
      },
      "execution_count": null,
      "outputs": [
        {
          "output_type": "display_data",
          "data": {
            "text/plain": [
              "['I1', 'I2', 'I3', 'I4', 'I5']"
            ]
          },
          "metadata": {}
        }
      ]
    },
    {
      "cell_type": "markdown",
      "source": [
        "### Definição dos min_supp e min_conf para filtrarmos as regras"
      ],
      "metadata": {
        "id": "uC7leU3vK558"
      }
    },
    {
      "cell_type": "code",
      "source": [
        "C = {}\n",
        "L = {}\n",
        "itemset_size = 1\n",
        "min_support = 2/9\n",
        "min_conf = 0.3\n",
        "num_trans = len(Transactions)\n",
        "Discarded = {itemset_size: []}\n",
        "C.update({itemset_size : [[f] for f in order]})\n",
        "display(C)"
      ],
      "metadata": {
        "colab": {
          "base_uri": "https://localhost:8080/",
          "height": 35
        },
        "id": "pSA1MqrLXgLh",
        "outputId": "83fb79fa-9968-4372-e398-851af35c6ec9"
      },
      "execution_count": null,
      "outputs": [
        {
          "output_type": "display_data",
          "data": {
            "text/plain": [
              "{1: [['I1'], ['I2'], ['I3'], ['I4'], ['I5']]}"
            ]
          },
          "metadata": {}
        }
      ]
    },
    {
      "cell_type": "markdown",
      "source": [
        "## Definimos as funções usadas pelo algoritmo"
      ],
      "metadata": {
        "id": "416u_a17KoU9"
      }
    },
    {
      "cell_type": "code",
      "source": [
        "def count_occurences(itemset, Transactions):\n",
        "  # Inicializa a contagem de ocorrências como 0\n",
        "  count = 0\n",
        "  # Itera sobre todas as transações\n",
        "  for i in range(len(Transactions)):\n",
        "    # Verifica se o conjunto de itens (itemset) é um subconjunto da transação atual\n",
        "    # Converte ambos itemset e transação em conjuntos para usar issubset()\n",
        "    if set(itemset).issubset(set(Transactions[i])):\n",
        "      # Se itemset é um subconjunto da transação, incrementa a contagem\n",
        "      count += 1\n",
        "  # Após iterar por todas as transações, retorna o número total de ocorrências do itemset\n",
        "  return count\n"
      ],
      "metadata": {
        "id": "8c5U3od3hQin"
      },
      "execution_count": null,
      "outputs": []
    },
    {
      "cell_type": "code",
      "source": [
        "def print_table(T, supp_count):\n",
        "  print(\"Itemset | Frequency\")\n",
        "  for k in range(len(T)):\n",
        "    print(\"{} : {}\".format(T[k],supp_count[k]))\n",
        "  print(\"\\n\\n\")"
      ],
      "metadata": {
        "id": "D-AI3gYJGScb"
      },
      "execution_count": null,
      "outputs": []
    },
    {
      "cell_type": "code",
      "source": [
        "def join_two_itemsets(it1, it2, order):\n",
        "  # Ex: [I1,I2] V [I1,I3] = [I1,I2,I3]\n",
        "  # Ordena os dois conjuntos de itens (it1 e it2) de acordo com uma ordem predefinida\n",
        "  it1.sort(key=lambda x: order.index(x))\n",
        "  it2.sort(key=lambda x: order.index(x))\n",
        "\n",
        "  # Compara os itens, exceto o último, de ambos os conjuntos\n",
        "  for i in range(len(it1)-1):\n",
        "    if it1[i] != it2[i]:\n",
        "        # Se os itens iniciais são diferentes, retorna uma lista vazia (não podem ser unidos)\n",
        "        return []\n",
        "\n",
        "  # Verifica se o último item de it1 vem antes do último item de it2 na ordem predefinida\n",
        "  if order.index(it1[-1]) < order.index(it2[-1]):\n",
        "    # Retorna a união dos conjuntos, que é todos os itens de it1 mais o último item de it2\n",
        "    return it1 + [it2[-1]]\n",
        "\n",
        "  # Se as condições acima não são satisfeitas, retorna uma lista vazia\n",
        "  return []"
      ],
      "metadata": {
        "id": "hmvFaBB_N3Ez"
      },
      "execution_count": null,
      "outputs": []
    },
    {
      "cell_type": "code",
      "source": [
        "def join_set_itemsets(set_of_its, order):\n",
        "  # L = [[I1],[I2],[I3]]; L V L = [[I1,I2], [II,I3]...]\n",
        "  # Inicializa uma nova lista para armazenar os conjuntos de itens unidos\n",
        "  C = []\n",
        "  # Itera sobre todos os pares possíveis dentro do conjunto fornecido\n",
        "  for i in range(len(set_of_its)):\n",
        "    for j in range(i+1, len(set_of_its)):\n",
        "      # Tenta unir os pares de conjuntos de itens\n",
        "      it_out = join_two_itemsets(set_of_its[i], set_of_its[j], order)\n",
        "      # Se a união é bem-sucedida e resulta em um conjunto não vazio\n",
        "      if len(it_out) > 0:\n",
        "        # Adiciona o novo conjunto à lista C\n",
        "        C.append(it_out)\n",
        "  # Retorna a lista C com todos os novos conjuntos de itens unidos\n",
        "  return C"
      ],
      "metadata": {
        "id": "XPJZZD5bNITE"
      },
      "execution_count": null,
      "outputs": []
    },
    {
      "cell_type": "code",
      "source": [
        "def get_frequent(itemsets, Transactions, min_support, prev_discarded):\n",
        "  # Inicializa as listas para armazenar os conjuntos de itens frequentes, sua contagem de suporte e os novos descartados\n",
        "  L = []\n",
        "  supp_count = []\n",
        "  new_discarded = []\n",
        "  # Calcula o número total de transações\n",
        "  num_trans = len(Transactions)\n",
        "\n",
        "  # Obtém o tamanho atual da hierarquia dos conjuntos de itens descartados\n",
        "  k = len(prev_discarded.keys())\n",
        "\n",
        "  # Itera sobre cada conjunto de itens candidatos\n",
        "  for s in range(len(itemsets)):\n",
        "    # Inicializa a flag para verificar se o itemset foi descartado em iterações anteriores\n",
        "    discarded_before = False\n",
        "    # Se já houver conjuntos de itens descartados em níveis anteriores\n",
        "    if k > 0:\n",
        "      # Verifica se algum dos conjuntos descartados anteriormente é subconjunto do conjunto atual\n",
        "      for it in prev_discarded[k]:\n",
        "        if set(it).issubset(set(itemsets[s])):\n",
        "          discarded_before = True\n",
        "          break\n",
        "    # Se o conjunto de itens não foi descartado anteriormente\n",
        "    if not discarded_before:\n",
        "      # Conta as ocorrências do conjunto de itens atual nas transações\n",
        "      count = count_occurences(itemsets[s], Transactions)\n",
        "      # Se a contagem de suporte atender ao suporte mínimo\n",
        "      if count/num_trans >= min_support:\n",
        "        # Adiciona o conjunto de itens e sua contagem à lista de frequentes\n",
        "        L.append(itemsets[s])\n",
        "        supp_count.append(count)\n",
        "      else:\n",
        "        # Caso contrário, adiciona o conjunto de itens à lista de descartados\n",
        "        new_discarded.append(itemsets[s])\n",
        "\n",
        "  # Retorna os conjuntos de itens frequentes, sua contagem de suporte e a nova lista de descartados\n",
        "  return L, supp_count, new_discarded"
      ],
      "metadata": {
        "id": "_rlp2U-JdlDh"
      },
      "execution_count": null,
      "outputs": []
    },
    {
      "cell_type": "markdown",
      "source": [
        "### Teste da função para atualizar C e L"
      ],
      "metadata": {
        "id": "KwvrDL_pKuy0"
      }
    },
    {
      "cell_type": "code",
      "source": [
        "supp_count_L = {}\n",
        "f, sup, new_discarded = get_frequent(C[itemset_size],Transactions,min_support, Discarded)\n",
        "Discarded.update({itemset_size: new_discarded})\n",
        "L.update({itemset_size: f})\n",
        "supp_count_L.update({itemset_size: sup})"
      ],
      "metadata": {
        "id": "51cawEQ8YIP5"
      },
      "execution_count": null,
      "outputs": []
    },
    {
      "cell_type": "code",
      "source": [
        "print(\"L1\")\n",
        "print_table(L[1], supp_count_L[1])"
      ],
      "metadata": {
        "colab": {
          "base_uri": "https://localhost:8080/"
        },
        "id": "ALqOCvygE0Vs",
        "outputId": "031e0285-8133-47a7-cf3d-cef4d73f0c9d"
      },
      "execution_count": null,
      "outputs": [
        {
          "output_type": "stream",
          "name": "stdout",
          "text": [
            "L1\n",
            "Itemset | Frequency\n",
            "['I1'] : 6\n",
            "['I2'] : 7\n",
            "['I3'] : 6\n",
            "['I4'] : 2\n",
            "['I5'] : 2\n",
            "\n",
            "\n",
            "\n"
          ]
        }
      ]
    },
    {
      "cell_type": "markdown",
      "source": [
        "## Execução do algoritmo para encontrar regras de associação"
      ],
      "metadata": {
        "id": "c-g9OV_xKz19"
      }
    },
    {
      "cell_type": "code",
      "source": [
        "# Inicializando o tamanho do conjunto de itens como o tamanho atual + 1\n",
        "k = itemset_size + 1\n",
        "# Inicializando a variável de convergência como False\n",
        "convergence = False\n",
        "# Iniciando um loop que continuará até que a convergência seja alcançada\n",
        "while not convergence:\n",
        "  # Atualiza o dicionário C com a união de conjuntos de itens de tamanho k-1\n",
        "  C.update({k: join_set_itemsets(L[k-1], order)})\n",
        "\n",
        "  # Imprime a tabela C de tamanho k\n",
        "  print(\"Tabela C{}: \\n\".format(k))\n",
        "  print_table(C[k], [count_occurences(it, Transactions) for it in C[k]])\n",
        "\n",
        "  # Calcula os conjuntos de itens frequentes, suporte e itens descartados para o tamanho atual k\n",
        "  f, sup, new_discarded = get_frequent(C[k], Transactions, min_support, Discarded)\n",
        "  # Atualiza o dicionário de itens descartados\n",
        "  Discarded.update({k: new_discarded})\n",
        "  # Atualiza o dicionário L com os conjuntos de itens frequentes de tamanho k\n",
        "  L.update({k: f})\n",
        "  # Atualiza a contagem de suporte para os conjuntos de itens frequentes\n",
        "  supp_count_L.update({k: sup})\n",
        "  # Verifica se não há mais conjuntos de itens frequentes de tamanho k, o que indica convergência\n",
        "  if len(L[k]) == 0:\n",
        "    convergence = True\n",
        "  else:\n",
        "    # Caso ainda haja conjuntos de itens frequentes, imprime a tabela L de tamanho k\n",
        "    print(\"Tabela L{}: \\n\".format(k))\n",
        "    print_table(L[k], supp_count_L[k])\n",
        "  # Incrementa o tamanho do conjunto de itens\n",
        "  k += 1\n"
      ],
      "metadata": {
        "colab": {
          "base_uri": "https://localhost:8080/"
        },
        "id": "XbFkPGmVGF41",
        "outputId": "fd140ddf-67b5-4fb9-e894-d12606af94c9"
      },
      "execution_count": null,
      "outputs": [
        {
          "output_type": "stream",
          "name": "stdout",
          "text": [
            "Tabela C2: \n",
            "\n",
            "Itemset | Frequency\n",
            "['I1', 'I2'] : 4\n",
            "['I1', 'I3'] : 4\n",
            "['I1', 'I4'] : 1\n",
            "['I1', 'I5'] : 2\n",
            "['I2', 'I3'] : 4\n",
            "['I2', 'I4'] : 2\n",
            "['I2', 'I5'] : 2\n",
            "['I3', 'I4'] : 0\n",
            "['I3', 'I5'] : 1\n",
            "['I4', 'I5'] : 0\n",
            "\n",
            "\n",
            "\n",
            "Tabela L2: \n",
            "\n",
            "Itemset | Frequency\n",
            "['I1', 'I2'] : 4\n",
            "['I1', 'I3'] : 4\n",
            "['I1', 'I5'] : 2\n",
            "['I2', 'I3'] : 4\n",
            "['I2', 'I4'] : 2\n",
            "['I2', 'I5'] : 2\n",
            "\n",
            "\n",
            "\n",
            "Tabela C3: \n",
            "\n",
            "Itemset | Frequency\n",
            "['I1', 'I2', 'I3'] : 2\n",
            "['I1', 'I2', 'I5'] : 2\n",
            "['I1', 'I3', 'I5'] : 1\n",
            "['I2', 'I3', 'I4'] : 0\n",
            "['I2', 'I3', 'I5'] : 1\n",
            "['I2', 'I4', 'I5'] : 0\n",
            "\n",
            "\n",
            "\n",
            "Tabela L3: \n",
            "\n",
            "Itemset | Frequency\n",
            "['I1', 'I2', 'I3'] : 2\n",
            "['I1', 'I2', 'I5'] : 2\n",
            "\n",
            "\n",
            "\n",
            "Tabela C4: \n",
            "\n",
            "Itemset | Frequency\n",
            "['I1', 'I2', 'I3', 'I5'] : 1\n",
            "\n",
            "\n",
            "\n"
          ]
        }
      ]
    },
    {
      "cell_type": "code",
      "source": [
        "from itertools import combinations, chain\n",
        "\n",
        "def powerset(s):\n",
        "  return list(chain.from_iterable(combinations(s, r) for r in range(1, len(s)+1)))"
      ],
      "metadata": {
        "id": "kFxnu8LkVHJa"
      },
      "execution_count": null,
      "outputs": []
    },
    {
      "cell_type": "code",
      "source": [
        "def write_rules(X, X_S, S, conf, supp, lift, num_trans):\n",
        "  out_rules = \"\"\n",
        "  out_rules += \"Freq. Itemset: {}\\n\".format(X)\n",
        "  out_rules += \"   Rule: {} -> {} \\n\".format(list(S), list(X_S))\n",
        "  out_rules += \"   Conf: {0:2.3f} \".format(conf)\n",
        "  out_rules += \"   Supp: {0:2.3f} \".format(supp/ num_trans)\n",
        "  out_rules += \"   Lift: {0:2.3f} \".format(lift)\n",
        "  return out_rules"
      ],
      "metadata": {
        "id": "VZ16LoA3Vq3x"
      },
      "execution_count": null,
      "outputs": []
    },
    {
      "cell_type": "code",
      "source": [
        "assoc_rules_str = \"\"\n",
        "# Itera sobre todos os níveis de conjuntos de itens frequentes, exceto o nível 0\n",
        "for i in range(1, len(L)):\n",
        "  for j in range(len(L[i])):\n",
        "    # Gera todos os subconjuntos possíveis do conjunto de itens frequentes\n",
        "    s = list(powerset(L[i][j]))\n",
        "    # Remove o próprio conjunto para evitar regras inválidas\n",
        "    s.pop()\n",
        "    for z in s:\n",
        "      S = set(z)\n",
        "      X = set(L[i][j])\n",
        "      X_S = set(X-S)\n",
        "      # Calcula o suporte do conjunto X\n",
        "      sup_x = count_occurences(X, Transactions)\n",
        "      # Calcula o suporte do conjunto X-S\n",
        "      sup_x_s = count_occurences(X_S, Transactions)\n",
        "      # Calcula a confiança da regra\n",
        "      conf = sup_x/count_occurences(S, Transactions)\n",
        "      # Calcula o lift da regra\n",
        "      lift = conf/(sup_x_s / num_trans)\n",
        "      # Verifica se a regra atende os critérios mínimos de confiança e suporte\n",
        "      if conf >= min_conf and sup_x >= min_support:\n",
        "        # Escreve a regra e adiciona à string de regras de associação\n",
        "        assoc_rules_str += write_rules(X, X_S, S, conf, sup_x, lift, num_trans)\n"
      ],
      "metadata": {
        "id": "Ez0FsME_O8JO"
      },
      "execution_count": null,
      "outputs": []
    },
    {
      "cell_type": "code",
      "source": [
        "print(assoc_rules_str)"
      ],
      "metadata": {
        "colab": {
          "base_uri": "https://localhost:8080/"
        },
        "id": "X1NWv5ojXNe6",
        "outputId": "a2df4daa-0622-4cc0-b1dc-9ceb3904a933"
      },
      "execution_count": null,
      "outputs": [
        {
          "output_type": "stream",
          "name": "stdout",
          "text": [
            "Freq. Itemset: {'I1', 'I2'}\n",
            "   Rule: ['I1'] -> ['I2'] \n",
            "   Conf: 0.667    Supp: 0.444    Lift: 0.857 Freq. Itemset: {'I1', 'I2'}\n",
            "   Rule: ['I2'] -> ['I1'] \n",
            "   Conf: 0.571    Supp: 0.444    Lift: 0.857 Freq. Itemset: {'I1', 'I3'}\n",
            "   Rule: ['I1'] -> ['I3'] \n",
            "   Conf: 0.667    Supp: 0.444    Lift: 1.000 Freq. Itemset: {'I1', 'I3'}\n",
            "   Rule: ['I3'] -> ['I1'] \n",
            "   Conf: 0.667    Supp: 0.444    Lift: 1.000 Freq. Itemset: {'I1', 'I5'}\n",
            "   Rule: ['I1'] -> ['I5'] \n",
            "   Conf: 0.333    Supp: 0.222    Lift: 1.500 Freq. Itemset: {'I1', 'I5'}\n",
            "   Rule: ['I5'] -> ['I1'] \n",
            "   Conf: 1.000    Supp: 0.222    Lift: 1.500 Freq. Itemset: {'I2', 'I3'}\n",
            "   Rule: ['I2'] -> ['I3'] \n",
            "   Conf: 0.571    Supp: 0.444    Lift: 0.857 Freq. Itemset: {'I2', 'I3'}\n",
            "   Rule: ['I3'] -> ['I2'] \n",
            "   Conf: 0.667    Supp: 0.444    Lift: 0.857 Freq. Itemset: {'I2', 'I4'}\n",
            "   Rule: ['I4'] -> ['I2'] \n",
            "   Conf: 1.000    Supp: 0.222    Lift: 1.286 Freq. Itemset: {'I2', 'I5'}\n",
            "   Rule: ['I5'] -> ['I2'] \n",
            "   Conf: 1.000    Supp: 0.222    Lift: 1.286 Freq. Itemset: {'I1', 'I2', 'I3'}\n",
            "   Rule: ['I1'] -> ['I2', 'I3'] \n",
            "   Conf: 0.333    Supp: 0.222    Lift: 0.750 Freq. Itemset: {'I1', 'I2', 'I3'}\n",
            "   Rule: ['I3'] -> ['I1', 'I2'] \n",
            "   Conf: 0.333    Supp: 0.222    Lift: 0.750 Freq. Itemset: {'I1', 'I2', 'I3'}\n",
            "   Rule: ['I1', 'I2'] -> ['I3'] \n",
            "   Conf: 0.500    Supp: 0.222    Lift: 0.750 Freq. Itemset: {'I1', 'I2', 'I3'}\n",
            "   Rule: ['I1', 'I3'] -> ['I2'] \n",
            "   Conf: 0.500    Supp: 0.222    Lift: 0.643 Freq. Itemset: {'I1', 'I2', 'I3'}\n",
            "   Rule: ['I2', 'I3'] -> ['I1'] \n",
            "   Conf: 0.500    Supp: 0.222    Lift: 0.750 Freq. Itemset: {'I1', 'I2', 'I5'}\n",
            "   Rule: ['I1'] -> ['I2', 'I5'] \n",
            "   Conf: 0.333    Supp: 0.222    Lift: 1.500 Freq. Itemset: {'I1', 'I2', 'I5'}\n",
            "   Rule: ['I5'] -> ['I1', 'I2'] \n",
            "   Conf: 1.000    Supp: 0.222    Lift: 2.250 Freq. Itemset: {'I1', 'I2', 'I5'}\n",
            "   Rule: ['I1', 'I2'] -> ['I5'] \n",
            "   Conf: 0.500    Supp: 0.222    Lift: 2.250 Freq. Itemset: {'I1', 'I2', 'I5'}\n",
            "   Rule: ['I1', 'I5'] -> ['I2'] \n",
            "   Conf: 1.000    Supp: 0.222    Lift: 1.286 Freq. Itemset: {'I1', 'I2', 'I5'}\n",
            "   Rule: ['I2', 'I5'] -> ['I1'] \n",
            "   Conf: 1.000    Supp: 0.222    Lift: 1.500 \n"
          ]
        }
      ]
    },
    {
      "cell_type": "markdown",
      "source": [
        "## Using Libs to find the association rule:"
      ],
      "metadata": {
        "id": "O0y-467B0nUO"
      }
    },
    {
      "cell_type": "markdown",
      "source": [
        "###Apriori\n",
        "\n",
        "**Abordagem:**com base no princípio de geração de candidatos, onde começa identificando os itens individuais que atendem a um limite mínimo de suporte. Em seguida, ele estende esses conjuntos de itens, adicionando um item por vez, e verifica se os conjuntos de itens resultantes atendem ao limite de suporte.\n",
        "\n",
        "**Eficiência:** A priori pode ser bastante lento e ineficiente para grandes conjuntos de dados, pois precisa verificar o banco de dados várias vezes para cada nível de conjuntos de itens que gera.\n",
        "\n",
        "**Caso de uso:** Mais adequado para conjuntos de dados menores."
      ],
      "metadata": {
        "id": "EpUKAgy_WGc4"
      }
    },
    {
      "cell_type": "code",
      "source": [
        "from apyori import apriori\n",
        "\n",
        "rules = apriori(transactions = Transactions,\n",
        "                min_support = 0.003,\n",
        "                min_confidence = 0,\n",
        "                min_lift = 0,\n",
        "                min_length = 2,\n",
        "                max_length = 2)\n",
        "\n",
        "results = list(rules)\n",
        "for rule in results:\n",
        "  print(rule)"
      ],
      "metadata": {
        "id": "afX17tMTXZCv",
        "colab": {
          "base_uri": "https://localhost:8080/"
        },
        "outputId": "9eeeb4ef-83f6-4e55-e41b-457974040459"
      },
      "execution_count": null,
      "outputs": [
        {
          "output_type": "stream",
          "name": "stdout",
          "text": [
            "RelationRecord(items=frozenset({'I1'}), support=0.6666666666666666, ordered_statistics=[OrderedStatistic(items_base=frozenset(), items_add=frozenset({'I1'}), confidence=0.6666666666666666, lift=1.0)])\n",
            "RelationRecord(items=frozenset({'I2'}), support=0.7777777777777778, ordered_statistics=[OrderedStatistic(items_base=frozenset(), items_add=frozenset({'I2'}), confidence=0.7777777777777778, lift=1.0)])\n",
            "RelationRecord(items=frozenset({'I3'}), support=0.6666666666666666, ordered_statistics=[OrderedStatistic(items_base=frozenset(), items_add=frozenset({'I3'}), confidence=0.6666666666666666, lift=1.0)])\n",
            "RelationRecord(items=frozenset({'I4'}), support=0.2222222222222222, ordered_statistics=[OrderedStatistic(items_base=frozenset(), items_add=frozenset({'I4'}), confidence=0.2222222222222222, lift=1.0)])\n",
            "RelationRecord(items=frozenset({'I5'}), support=0.2222222222222222, ordered_statistics=[OrderedStatistic(items_base=frozenset(), items_add=frozenset({'I5'}), confidence=0.2222222222222222, lift=1.0)])\n",
            "RelationRecord(items=frozenset({'I1', 'I2'}), support=0.4444444444444444, ordered_statistics=[OrderedStatistic(items_base=frozenset(), items_add=frozenset({'I1', 'I2'}), confidence=0.4444444444444444, lift=1.0), OrderedStatistic(items_base=frozenset({'I1'}), items_add=frozenset({'I2'}), confidence=0.6666666666666666, lift=0.8571428571428571), OrderedStatistic(items_base=frozenset({'I2'}), items_add=frozenset({'I1'}), confidence=0.5714285714285714, lift=0.8571428571428571)])\n",
            "RelationRecord(items=frozenset({'I1', 'I3'}), support=0.4444444444444444, ordered_statistics=[OrderedStatistic(items_base=frozenset(), items_add=frozenset({'I1', 'I3'}), confidence=0.4444444444444444, lift=1.0), OrderedStatistic(items_base=frozenset({'I1'}), items_add=frozenset({'I3'}), confidence=0.6666666666666666, lift=1.0), OrderedStatistic(items_base=frozenset({'I3'}), items_add=frozenset({'I1'}), confidence=0.6666666666666666, lift=1.0)])\n",
            "RelationRecord(items=frozenset({'I1', 'I4'}), support=0.1111111111111111, ordered_statistics=[OrderedStatistic(items_base=frozenset(), items_add=frozenset({'I1', 'I4'}), confidence=0.1111111111111111, lift=1.0), OrderedStatistic(items_base=frozenset({'I1'}), items_add=frozenset({'I4'}), confidence=0.16666666666666666, lift=0.75), OrderedStatistic(items_base=frozenset({'I4'}), items_add=frozenset({'I1'}), confidence=0.5, lift=0.75)])\n",
            "RelationRecord(items=frozenset({'I1', 'I5'}), support=0.2222222222222222, ordered_statistics=[OrderedStatistic(items_base=frozenset(), items_add=frozenset({'I1', 'I5'}), confidence=0.2222222222222222, lift=1.0), OrderedStatistic(items_base=frozenset({'I1'}), items_add=frozenset({'I5'}), confidence=0.3333333333333333, lift=1.5), OrderedStatistic(items_base=frozenset({'I5'}), items_add=frozenset({'I1'}), confidence=1.0, lift=1.5)])\n",
            "RelationRecord(items=frozenset({'I2', 'I3'}), support=0.4444444444444444, ordered_statistics=[OrderedStatistic(items_base=frozenset(), items_add=frozenset({'I2', 'I3'}), confidence=0.4444444444444444, lift=1.0), OrderedStatistic(items_base=frozenset({'I2'}), items_add=frozenset({'I3'}), confidence=0.5714285714285714, lift=0.8571428571428571), OrderedStatistic(items_base=frozenset({'I3'}), items_add=frozenset({'I2'}), confidence=0.6666666666666666, lift=0.8571428571428571)])\n",
            "RelationRecord(items=frozenset({'I2', 'I4'}), support=0.2222222222222222, ordered_statistics=[OrderedStatistic(items_base=frozenset(), items_add=frozenset({'I2', 'I4'}), confidence=0.2222222222222222, lift=1.0), OrderedStatistic(items_base=frozenset({'I2'}), items_add=frozenset({'I4'}), confidence=0.2857142857142857, lift=1.2857142857142858), OrderedStatistic(items_base=frozenset({'I4'}), items_add=frozenset({'I2'}), confidence=1.0, lift=1.2857142857142856)])\n",
            "RelationRecord(items=frozenset({'I2', 'I5'}), support=0.2222222222222222, ordered_statistics=[OrderedStatistic(items_base=frozenset(), items_add=frozenset({'I2', 'I5'}), confidence=0.2222222222222222, lift=1.0), OrderedStatistic(items_base=frozenset({'I2'}), items_add=frozenset({'I5'}), confidence=0.2857142857142857, lift=1.2857142857142858), OrderedStatistic(items_base=frozenset({'I5'}), items_add=frozenset({'I2'}), confidence=1.0, lift=1.2857142857142856)])\n",
            "RelationRecord(items=frozenset({'I5', 'I3'}), support=0.1111111111111111, ordered_statistics=[OrderedStatistic(items_base=frozenset(), items_add=frozenset({'I5', 'I3'}), confidence=0.1111111111111111, lift=1.0), OrderedStatistic(items_base=frozenset({'I3'}), items_add=frozenset({'I5'}), confidence=0.16666666666666666, lift=0.75), OrderedStatistic(items_base=frozenset({'I5'}), items_add=frozenset({'I3'}), confidence=0.5, lift=0.75)])\n"
          ]
        }
      ]
    },
    {
      "cell_type": "markdown",
      "source": [
        "###ECLAT (clustering de classes de equivalência e travessia de rede bottom-up):\n",
        "\n",
        "**Abordagem:** ECLAT melhora o Apriori usando uma estratégia de busca em profundidade. Ele gera conjuntos de itens semelhantes ao Apriori, mas usa um formato de banco de dados vertical (listas de ID de transação para cada item). A interseção dessas listas de ID ajuda a contar rapidamente o suporte dos conjuntos de itens.\n",
        "\n",
        "**Eficiência:** ECLAT é normalmente mais rápido que Apriori, pois reduz a necessidade de varrer todo o banco de dados repetidamente e tem melhor eficiência computacional devido à operação de interseção.\n",
        "\n",
        "**Caso de uso:** eficaz para conjuntos de dados de tamanho médio e conjuntos de dados relativamente densos."
      ],
      "metadata": {
        "id": "AhW_8Rv5WVPv"
      }
    },
    {
      "cell_type": "code",
      "source": [
        "rules = apriori(transactions = Transactions,\n",
        "                min_support = 0.003,\n",
        "                min_length = 2,\n",
        "                max_length = 0)\n",
        "\n",
        "results = list(rules)\n",
        "for rule in results:\n",
        "  print(rule)"
      ],
      "metadata": {
        "colab": {
          "base_uri": "https://localhost:8080/"
        },
        "id": "hv14_P06UCJf",
        "outputId": "a73fe8ba-4d9f-45ec-fb94-2cacb47c6b0a"
      },
      "execution_count": null,
      "outputs": [
        {
          "output_type": "stream",
          "name": "stdout",
          "text": [
            "RelationRecord(items=frozenset({'I1'}), support=0.6666666666666666, ordered_statistics=[OrderedStatistic(items_base=frozenset(), items_add=frozenset({'I1'}), confidence=0.6666666666666666, lift=1.0)])\n",
            "RelationRecord(items=frozenset({'I2'}), support=0.7777777777777778, ordered_statistics=[OrderedStatistic(items_base=frozenset(), items_add=frozenset({'I2'}), confidence=0.7777777777777778, lift=1.0)])\n",
            "RelationRecord(items=frozenset({'I3'}), support=0.6666666666666666, ordered_statistics=[OrderedStatistic(items_base=frozenset(), items_add=frozenset({'I3'}), confidence=0.6666666666666666, lift=1.0)])\n",
            "RelationRecord(items=frozenset({'I4'}), support=0.2222222222222222, ordered_statistics=[OrderedStatistic(items_base=frozenset(), items_add=frozenset({'I4'}), confidence=0.2222222222222222, lift=1.0)])\n",
            "RelationRecord(items=frozenset({'I5'}), support=0.2222222222222222, ordered_statistics=[OrderedStatistic(items_base=frozenset(), items_add=frozenset({'I5'}), confidence=0.2222222222222222, lift=1.0)])\n",
            "RelationRecord(items=frozenset({'I1', 'I2'}), support=0.4444444444444444, ordered_statistics=[OrderedStatistic(items_base=frozenset(), items_add=frozenset({'I1', 'I2'}), confidence=0.4444444444444444, lift=1.0), OrderedStatistic(items_base=frozenset({'I1'}), items_add=frozenset({'I2'}), confidence=0.6666666666666666, lift=0.8571428571428571), OrderedStatistic(items_base=frozenset({'I2'}), items_add=frozenset({'I1'}), confidence=0.5714285714285714, lift=0.8571428571428571)])\n",
            "RelationRecord(items=frozenset({'I1', 'I3'}), support=0.4444444444444444, ordered_statistics=[OrderedStatistic(items_base=frozenset(), items_add=frozenset({'I1', 'I3'}), confidence=0.4444444444444444, lift=1.0), OrderedStatistic(items_base=frozenset({'I1'}), items_add=frozenset({'I3'}), confidence=0.6666666666666666, lift=1.0), OrderedStatistic(items_base=frozenset({'I3'}), items_add=frozenset({'I1'}), confidence=0.6666666666666666, lift=1.0)])\n",
            "RelationRecord(items=frozenset({'I1', 'I4'}), support=0.1111111111111111, ordered_statistics=[OrderedStatistic(items_base=frozenset(), items_add=frozenset({'I1', 'I4'}), confidence=0.1111111111111111, lift=1.0), OrderedStatistic(items_base=frozenset({'I1'}), items_add=frozenset({'I4'}), confidence=0.16666666666666666, lift=0.75), OrderedStatistic(items_base=frozenset({'I4'}), items_add=frozenset({'I1'}), confidence=0.5, lift=0.75)])\n",
            "RelationRecord(items=frozenset({'I1', 'I5'}), support=0.2222222222222222, ordered_statistics=[OrderedStatistic(items_base=frozenset(), items_add=frozenset({'I1', 'I5'}), confidence=0.2222222222222222, lift=1.0), OrderedStatistic(items_base=frozenset({'I1'}), items_add=frozenset({'I5'}), confidence=0.3333333333333333, lift=1.5), OrderedStatistic(items_base=frozenset({'I5'}), items_add=frozenset({'I1'}), confidence=1.0, lift=1.5)])\n",
            "RelationRecord(items=frozenset({'I2', 'I3'}), support=0.4444444444444444, ordered_statistics=[OrderedStatistic(items_base=frozenset(), items_add=frozenset({'I2', 'I3'}), confidence=0.4444444444444444, lift=1.0), OrderedStatistic(items_base=frozenset({'I2'}), items_add=frozenset({'I3'}), confidence=0.5714285714285714, lift=0.8571428571428571), OrderedStatistic(items_base=frozenset({'I3'}), items_add=frozenset({'I2'}), confidence=0.6666666666666666, lift=0.8571428571428571)])\n",
            "RelationRecord(items=frozenset({'I2', 'I4'}), support=0.2222222222222222, ordered_statistics=[OrderedStatistic(items_base=frozenset(), items_add=frozenset({'I2', 'I4'}), confidence=0.2222222222222222, lift=1.0), OrderedStatistic(items_base=frozenset({'I2'}), items_add=frozenset({'I4'}), confidence=0.2857142857142857, lift=1.2857142857142858), OrderedStatistic(items_base=frozenset({'I4'}), items_add=frozenset({'I2'}), confidence=1.0, lift=1.2857142857142856)])\n",
            "RelationRecord(items=frozenset({'I2', 'I5'}), support=0.2222222222222222, ordered_statistics=[OrderedStatistic(items_base=frozenset(), items_add=frozenset({'I2', 'I5'}), confidence=0.2222222222222222, lift=1.0), OrderedStatistic(items_base=frozenset({'I2'}), items_add=frozenset({'I5'}), confidence=0.2857142857142857, lift=1.2857142857142858), OrderedStatistic(items_base=frozenset({'I5'}), items_add=frozenset({'I2'}), confidence=1.0, lift=1.2857142857142856)])\n",
            "RelationRecord(items=frozenset({'I5', 'I3'}), support=0.1111111111111111, ordered_statistics=[OrderedStatistic(items_base=frozenset(), items_add=frozenset({'I5', 'I3'}), confidence=0.1111111111111111, lift=1.0), OrderedStatistic(items_base=frozenset({'I3'}), items_add=frozenset({'I5'}), confidence=0.16666666666666666, lift=0.75), OrderedStatistic(items_base=frozenset({'I5'}), items_add=frozenset({'I3'}), confidence=0.5, lift=0.75)])\n",
            "RelationRecord(items=frozenset({'I1', 'I2', 'I3'}), support=0.2222222222222222, ordered_statistics=[OrderedStatistic(items_base=frozenset(), items_add=frozenset({'I1', 'I2', 'I3'}), confidence=0.2222222222222222, lift=1.0), OrderedStatistic(items_base=frozenset({'I1'}), items_add=frozenset({'I2', 'I3'}), confidence=0.3333333333333333, lift=0.75), OrderedStatistic(items_base=frozenset({'I2'}), items_add=frozenset({'I1', 'I3'}), confidence=0.2857142857142857, lift=0.6428571428571429), OrderedStatistic(items_base=frozenset({'I3'}), items_add=frozenset({'I1', 'I2'}), confidence=0.3333333333333333, lift=0.75), OrderedStatistic(items_base=frozenset({'I1', 'I2'}), items_add=frozenset({'I3'}), confidence=0.5, lift=0.75), OrderedStatistic(items_base=frozenset({'I1', 'I3'}), items_add=frozenset({'I2'}), confidence=0.5, lift=0.6428571428571428), OrderedStatistic(items_base=frozenset({'I2', 'I3'}), items_add=frozenset({'I1'}), confidence=0.5, lift=0.75)])\n",
            "RelationRecord(items=frozenset({'I1', 'I2', 'I4'}), support=0.1111111111111111, ordered_statistics=[OrderedStatistic(items_base=frozenset(), items_add=frozenset({'I1', 'I2', 'I4'}), confidence=0.1111111111111111, lift=1.0), OrderedStatistic(items_base=frozenset({'I1'}), items_add=frozenset({'I2', 'I4'}), confidence=0.16666666666666666, lift=0.75), OrderedStatistic(items_base=frozenset({'I2'}), items_add=frozenset({'I1', 'I4'}), confidence=0.14285714285714285, lift=1.2857142857142858), OrderedStatistic(items_base=frozenset({'I4'}), items_add=frozenset({'I1', 'I2'}), confidence=0.5, lift=1.125), OrderedStatistic(items_base=frozenset({'I1', 'I2'}), items_add=frozenset({'I4'}), confidence=0.25, lift=1.125), OrderedStatistic(items_base=frozenset({'I1', 'I4'}), items_add=frozenset({'I2'}), confidence=1.0, lift=1.2857142857142856), OrderedStatistic(items_base=frozenset({'I2', 'I4'}), items_add=frozenset({'I1'}), confidence=0.5, lift=0.75)])\n",
            "RelationRecord(items=frozenset({'I1', 'I2', 'I5'}), support=0.2222222222222222, ordered_statistics=[OrderedStatistic(items_base=frozenset(), items_add=frozenset({'I1', 'I2', 'I5'}), confidence=0.2222222222222222, lift=1.0), OrderedStatistic(items_base=frozenset({'I1'}), items_add=frozenset({'I2', 'I5'}), confidence=0.3333333333333333, lift=1.5), OrderedStatistic(items_base=frozenset({'I2'}), items_add=frozenset({'I1', 'I5'}), confidence=0.2857142857142857, lift=1.2857142857142858), OrderedStatistic(items_base=frozenset({'I5'}), items_add=frozenset({'I1', 'I2'}), confidence=1.0, lift=2.25), OrderedStatistic(items_base=frozenset({'I1', 'I2'}), items_add=frozenset({'I5'}), confidence=0.5, lift=2.25), OrderedStatistic(items_base=frozenset({'I1', 'I5'}), items_add=frozenset({'I2'}), confidence=1.0, lift=1.2857142857142856), OrderedStatistic(items_base=frozenset({'I2', 'I5'}), items_add=frozenset({'I1'}), confidence=1.0, lift=1.5)])\n",
            "RelationRecord(items=frozenset({'I1', 'I5', 'I3'}), support=0.1111111111111111, ordered_statistics=[OrderedStatistic(items_base=frozenset(), items_add=frozenset({'I1', 'I5', 'I3'}), confidence=0.1111111111111111, lift=1.0), OrderedStatistic(items_base=frozenset({'I1'}), items_add=frozenset({'I5', 'I3'}), confidence=0.16666666666666666, lift=1.5), OrderedStatistic(items_base=frozenset({'I3'}), items_add=frozenset({'I1', 'I5'}), confidence=0.16666666666666666, lift=0.75), OrderedStatistic(items_base=frozenset({'I5'}), items_add=frozenset({'I1', 'I3'}), confidence=0.5, lift=1.125), OrderedStatistic(items_base=frozenset({'I1', 'I3'}), items_add=frozenset({'I5'}), confidence=0.25, lift=1.125), OrderedStatistic(items_base=frozenset({'I1', 'I5'}), items_add=frozenset({'I3'}), confidence=0.5, lift=0.75), OrderedStatistic(items_base=frozenset({'I5', 'I3'}), items_add=frozenset({'I1'}), confidence=1.0, lift=1.5)])\n",
            "RelationRecord(items=frozenset({'I2', 'I5', 'I3'}), support=0.1111111111111111, ordered_statistics=[OrderedStatistic(items_base=frozenset(), items_add=frozenset({'I2', 'I5', 'I3'}), confidence=0.1111111111111111, lift=1.0), OrderedStatistic(items_base=frozenset({'I2'}), items_add=frozenset({'I5', 'I3'}), confidence=0.14285714285714285, lift=1.2857142857142858), OrderedStatistic(items_base=frozenset({'I3'}), items_add=frozenset({'I2', 'I5'}), confidence=0.16666666666666666, lift=0.75), OrderedStatistic(items_base=frozenset({'I5'}), items_add=frozenset({'I2', 'I3'}), confidence=0.5, lift=1.125), OrderedStatistic(items_base=frozenset({'I2', 'I3'}), items_add=frozenset({'I5'}), confidence=0.25, lift=1.125), OrderedStatistic(items_base=frozenset({'I2', 'I5'}), items_add=frozenset({'I3'}), confidence=0.5, lift=0.75), OrderedStatistic(items_base=frozenset({'I5', 'I3'}), items_add=frozenset({'I2'}), confidence=1.0, lift=1.2857142857142856)])\n",
            "RelationRecord(items=frozenset({'I1', 'I2', 'I5', 'I3'}), support=0.1111111111111111, ordered_statistics=[OrderedStatistic(items_base=frozenset(), items_add=frozenset({'I1', 'I2', 'I5', 'I3'}), confidence=0.1111111111111111, lift=1.0), OrderedStatistic(items_base=frozenset({'I1'}), items_add=frozenset({'I2', 'I5', 'I3'}), confidence=0.16666666666666666, lift=1.5), OrderedStatistic(items_base=frozenset({'I2'}), items_add=frozenset({'I1', 'I5', 'I3'}), confidence=0.14285714285714285, lift=1.2857142857142858), OrderedStatistic(items_base=frozenset({'I3'}), items_add=frozenset({'I1', 'I2', 'I5'}), confidence=0.16666666666666666, lift=0.75), OrderedStatistic(items_base=frozenset({'I5'}), items_add=frozenset({'I1', 'I2', 'I3'}), confidence=0.5, lift=2.25), OrderedStatistic(items_base=frozenset({'I1', 'I2'}), items_add=frozenset({'I5', 'I3'}), confidence=0.25, lift=2.25), OrderedStatistic(items_base=frozenset({'I1', 'I3'}), items_add=frozenset({'I2', 'I5'}), confidence=0.25, lift=1.125), OrderedStatistic(items_base=frozenset({'I1', 'I5'}), items_add=frozenset({'I2', 'I3'}), confidence=0.5, lift=1.125), OrderedStatistic(items_base=frozenset({'I2', 'I3'}), items_add=frozenset({'I1', 'I5'}), confidence=0.25, lift=1.125), OrderedStatistic(items_base=frozenset({'I2', 'I5'}), items_add=frozenset({'I1', 'I3'}), confidence=0.5, lift=1.125), OrderedStatistic(items_base=frozenset({'I5', 'I3'}), items_add=frozenset({'I1', 'I2'}), confidence=1.0, lift=2.25), OrderedStatistic(items_base=frozenset({'I1', 'I2', 'I3'}), items_add=frozenset({'I5'}), confidence=0.5, lift=2.25), OrderedStatistic(items_base=frozenset({'I1', 'I2', 'I5'}), items_add=frozenset({'I3'}), confidence=0.5, lift=0.75), OrderedStatistic(items_base=frozenset({'I1', 'I5', 'I3'}), items_add=frozenset({'I2'}), confidence=1.0, lift=1.2857142857142856), OrderedStatistic(items_base=frozenset({'I2', 'I5', 'I3'}), items_add=frozenset({'I1'}), confidence=1.0, lift=1.5)])\n"
          ]
        }
      ]
    },
    {
      "cell_type": "markdown",
      "source": [
        "###Crescimento FP (crescimento de padrão frequente):\n",
        "\n",
        "**Abordagem:** FP-Growth representa o banco de dados na forma de uma estrutura de dados compacta chamada FP-Tree (Frequent Pattern Tree) e então extrai a árvore construindo FP-Trees condicionais, cada uma associada a um item frequente.\n",
        "\n",
        "**Eficiência:** É consideravelmente mais eficiente que Apriori e ECLAT, especialmente para grandes conjuntos de dados. Essa eficiência vem do fato de que ele só precisa passar pelo banco de dados duas vezes e não precisa gerar explicitamente conjuntos de candidatos.\n",
        "\n",
        "**Caso de uso:** Altamente adequado para conjuntos de dados muito grandes."
      ],
      "metadata": {
        "id": "F-hyxq0-XJi-"
      }
    },
    {
      "cell_type": "code",
      "source": [
        "import pyfpgrowth\n",
        "patterns = pyfpgrowth.find_frequent_patterns(Transactions, 2)\n",
        "rules = pyfpgrowth.generate_association_rules(patterns, 0.3) # <- minimum probability threshold\n",
        "\n",
        "for rule in rules:\n",
        "  print(rule)"
      ],
      "metadata": {
        "colab": {
          "base_uri": "https://localhost:8080/"
        },
        "id": "CAjvjQxmUgfR",
        "outputId": "ea54c29e-fc00-4204-daf3-d03d6a677bb6"
      },
      "execution_count": null,
      "outputs": [
        {
          "output_type": "stream",
          "name": "stdout",
          "text": [
            "('I1',)\n",
            "('I5',)\n",
            "('I1', 'I2')\n",
            "('I1', 'I5')\n",
            "('I2', 'I5')\n",
            "('I4',)\n",
            "('I2',)\n",
            "('I1', 'I3')\n",
            "('I2', 'I3')\n"
          ]
        }
      ]
    }
  ]
}