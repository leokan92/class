{
  "nbformat": 4,
  "nbformat_minor": 0,
  "metadata": {
    "colab": {
      "provenance": [],
      "authorship_tag": "ABX9TyMdjuqQ+RygzwgFHc+eK1EQ",
      "include_colab_link": true
    },
    "kernelspec": {
      "name": "python3",
      "display_name": "Python 3"
    },
    "language_info": {
      "name": "python"
    }
  },
  "cells": [
    {
      "cell_type": "markdown",
      "metadata": {
        "id": "view-in-github",
        "colab_type": "text"
      },
      "source": [
        "<a href=\"https://colab.research.google.com/github/leokan92/class/blob/main/Aula1_regras_de_associacao.ipynb\" target=\"_parent\"><img src=\"https://colab.research.google.com/assets/colab-badge.svg\" alt=\"Open In Colab\"/></a>"
      ]
    },
    {
      "cell_type": "code",
      "execution_count": 148,
      "metadata": {
        "id": "jlns13JgWvd8"
      },
      "outputs": [],
      "source": [
        "Transactions = [\n",
        "    ['I1', 'I2', 'I5'],\n",
        "    ['I2', 'I4'],\n",
        "    ['I2', 'I3'],\n",
        "    ['I1', 'I2', 'I4'],\n",
        "    ['I1', 'I3'],\n",
        "    ['I2', 'I3'],\n",
        "    ['I1', 'I3'],\n",
        "    ['I1', 'I2', 'I3', 'I5'],\n",
        "    ['I1', 'I2', 'I3']\n",
        "]"
      ]
    },
    {
      "cell_type": "code",
      "source": [
        "order = ['I' + str(i) for i in range (1,6)]\n",
        "display(order)"
      ],
      "metadata": {
        "colab": {
          "base_uri": "https://localhost:8080/",
          "height": 35
        },
        "id": "4suxIXrXX11L",
        "outputId": "de2811c6-4594-4a64-9cd4-b6ac79754df5"
      },
      "execution_count": 149,
      "outputs": [
        {
          "output_type": "display_data",
          "data": {
            "text/plain": [
              "['I1', 'I2', 'I3', 'I4', 'I5']"
            ]
          },
          "metadata": {}
        }
      ]
    },
    {
      "cell_type": "code",
      "source": [
        "C = {}\n",
        "L = {}\n",
        "itemset_size = 1\n",
        "min_support = 2/9\n",
        "min_conf = 0.3\n",
        "num_trans = len(Transactions)\n",
        "Discarded = {itemset_size: []}\n",
        "C.update({itemset_size : [[f] for f in order]})\n",
        "display(C)"
      ],
      "metadata": {
        "colab": {
          "base_uri": "https://localhost:8080/",
          "height": 35
        },
        "id": "pSA1MqrLXgLh",
        "outputId": "5e066b2a-2f9b-4a37-8fd3-f8da778631b3"
      },
      "execution_count": 150,
      "outputs": [
        {
          "output_type": "display_data",
          "data": {
            "text/plain": [
              "{1: [['I1'], ['I2'], ['I3'], ['I4'], ['I5']]}"
            ]
          },
          "metadata": {}
        }
      ]
    },
    {
      "cell_type": "code",
      "source": [
        "def count_occurences(itemset, Transactions):\n",
        "  # Inicializa a contagem de ocorrências como 0\n",
        "  count = 0\n",
        "  # Itera sobre todas as transações\n",
        "  for i in range(len(Transactions)):\n",
        "    # Verifica se o conjunto de itens (itemset) é um subconjunto da transação atual\n",
        "    # Converte ambos itemset e transação em conjuntos para usar issubset()\n",
        "    if set(itemset).issubset(set(Transactions[i])):\n",
        "      # Se itemset é um subconjunto da transação, incrementa a contagem\n",
        "      count += 1\n",
        "  # Após iterar por todas as transações, retorna o número total de ocorrências do itemset\n",
        "  return count\n"
      ],
      "metadata": {
        "id": "8c5U3od3hQin"
      },
      "execution_count": 166,
      "outputs": []
    },
    {
      "cell_type": "code",
      "source": [
        "def print_table(T, supp_count):\n",
        "  print(\"Itemset | Frequency\")\n",
        "  for k in range(len(T)):\n",
        "    print(\"{} : {}\".format(T[k],supp_count[k]))\n",
        "  print(\"\\n\\n\")"
      ],
      "metadata": {
        "id": "D-AI3gYJGScb"
      },
      "execution_count": 152,
      "outputs": []
    },
    {
      "cell_type": "code",
      "source": [
        "def join_two_itemsets(it1, it2, order):\n",
        "  # Ordena os dois conjuntos de itens (it1 e it2) de acordo com uma ordem predefinida\n",
        "  it1.sort(key=lambda x: order.index(x))\n",
        "  it2.sort(key=lambda x: order.index(x))\n",
        "\n",
        "  # Compara os itens, exceto o último, de ambos os conjuntos\n",
        "  for i in range(len(it1)-1):\n",
        "    if it1[i] != it2[i]:\n",
        "        # Se os itens iniciais são diferentes, retorna uma lista vazia (não podem ser unidos)\n",
        "        return []\n",
        "\n",
        "  # Verifica se o último item de it1 vem antes do último item de it2 na ordem predefinida\n",
        "  if order.index(it1[-1]) < order.index(it2[-1]):\n",
        "    # Retorna a união dos conjuntos, que é todos os itens de it1 mais o último item de it2\n",
        "    return it1 + [it2[-1]]\n",
        "\n",
        "  # Se as condições acima não são satisfeitas, retorna uma lista vazia\n",
        "  return []"
      ],
      "metadata": {
        "id": "hmvFaBB_N3Ez"
      },
      "execution_count": 153,
      "outputs": []
    },
    {
      "cell_type": "code",
      "source": [
        "def join_set_itemsets(set_of_its, order):\n",
        "  # Inicializa uma nova lista para armazenar os conjuntos de itens unidos\n",
        "  C = []\n",
        "  # Itera sobre todos os pares possíveis dentro do conjunto fornecido\n",
        "  for i in range(len(set_of_its)):\n",
        "    for j in range(i+1, len(set_of_its)):\n",
        "      # Tenta unir os pares de conjuntos de itens\n",
        "      it_out = join_two_itemsets(set_of_its[i], set_of_its[j], order)\n",
        "      # Se a união é bem-sucedida e resulta em um conjunto não vazio\n",
        "      if len(it_out) > 0:\n",
        "        # Adiciona o novo conjunto à lista C\n",
        "        C.append(it_out)\n",
        "  # Retorna a lista C com todos os novos conjuntos de itens unidos\n",
        "  return C"
      ],
      "metadata": {
        "id": "XPJZZD5bNITE"
      },
      "execution_count": 154,
      "outputs": []
    },
    {
      "cell_type": "code",
      "source": [
        "def get_frequent(itemsets, Transactions, min_support, prev_discarded):\n",
        "  # Inicializa as listas para armazenar os conjuntos de itens frequentes, sua contagem de suporte e os novos descartados\n",
        "  L = []\n",
        "  supp_count = []\n",
        "  new_discarded = []\n",
        "  # Calcula o número total de transações\n",
        "  num_trans = len(Transactions)\n",
        "\n",
        "  # Obtém o tamanho atual da hierarquia dos conjuntos de itens descartados\n",
        "  k = len(prev_discarded.keys())\n",
        "\n",
        "  # Itera sobre cada conjunto de itens candidatos\n",
        "  for s in range(len(itemsets)):\n",
        "    # Inicializa a flag para verificar se o itemset foi descartado em iterações anteriores\n",
        "    discarded_before = False\n",
        "    # Se já houver conjuntos de itens descartados em níveis anteriores\n",
        "    if k > 0:\n",
        "      # Verifica se algum dos conjuntos descartados anteriormente é subconjunto do conjunto atual\n",
        "      for it in prev_discarded[k]:\n",
        "        if set(it).issubset(set(itemsets[s])):\n",
        "          discarded_before = True\n",
        "          break\n",
        "    # Se o conjunto de itens não foi descartado anteriormente\n",
        "    if not discarded_before:\n",
        "      # Conta as ocorrências do conjunto de itens atual nas transações\n",
        "      count = count_occurences(itemsets[s], Transactions)\n",
        "      # Se a contagem de suporte atender ao suporte mínimo\n",
        "      if count/num_trans >= min_support:\n",
        "        # Adiciona o conjunto de itens e sua contagem à lista de frequentes\n",
        "        L.append(itemsets[s])\n",
        "        supp_count.append(count)\n",
        "      else:\n",
        "        # Caso contrário, adiciona o conjunto de itens à lista de descartados\n",
        "        new_discarded.append(itemsets[s])\n",
        "\n",
        "  # Retorna os conjuntos de itens frequentes, sua contagem de suporte e a nova lista de descartados\n",
        "  return L, supp_count, new_discarded"
      ],
      "metadata": {
        "id": "_rlp2U-JdlDh"
      },
      "execution_count": 155,
      "outputs": []
    },
    {
      "cell_type": "code",
      "source": [
        "supp_count_L = {}\n",
        "f, sup, new_discarded = get_frequent(C[itemset_size],Transactions,min_support, Discarded)\n",
        "Discarded.update({itemset_size: new_discarded})\n",
        "L.update({itemset_size: f})\n",
        "supp_count_L.update({itemset_size: sup})"
      ],
      "metadata": {
        "id": "51cawEQ8YIP5"
      },
      "execution_count": 156,
      "outputs": []
    },
    {
      "cell_type": "code",
      "source": [
        "print(\"L1\")\n",
        "print_table(L[1], supp_count_L[1])"
      ],
      "metadata": {
        "colab": {
          "base_uri": "https://localhost:8080/"
        },
        "id": "ALqOCvygE0Vs",
        "outputId": "83393eca-ea5b-4911-8352-9c5f530863a7"
      },
      "execution_count": 157,
      "outputs": [
        {
          "output_type": "stream",
          "name": "stdout",
          "text": [
            "L1\n",
            "Itemset | Frequency\n",
            "['I1'] : 6\n",
            "['I2'] : 7\n",
            "['I3'] : 6\n",
            "['I4'] : 2\n",
            "['I5'] : 2\n",
            "\n",
            "\n",
            "\n"
          ]
        }
      ]
    },
    {
      "cell_type": "code",
      "source": [
        "# Inicializando o tamanho do conjunto de itens como o tamanho atual + 1\n",
        "k = itemset_size + 1\n",
        "# Inicializando a variável de convergência como False\n",
        "convergence = False\n",
        "# Iniciando um loop que continuará até que a convergência seja alcançada\n",
        "while not convergence:\n",
        "  # Atualiza o dicionário C com a união de conjuntos de itens de tamanho k-1\n",
        "  C.update({k: join_set_itemsets(L[k-1], order)})\n",
        "\n",
        "  # Imprime a tabela C de tamanho k\n",
        "  print(\"Tabela C{}: \\n\".format(k))\n",
        "  print_table(C[k], [count_occurences(it, Transactions) for it in C[k]])\n",
        "\n",
        "  # Calcula os conjuntos de itens frequentes, suporte e itens descartados para o tamanho atual k\n",
        "  f, sup, new_discarded = get_frequent(C[k], Transactions, min_support, Discarded)\n",
        "  # Atualiza o dicionário de itens descartados\n",
        "  Discarded.update({k: new_discarded})\n",
        "  # Atualiza o dicionário L com os conjuntos de itens frequentes de tamanho k\n",
        "  L.update({k: f})\n",
        "  # Atualiza a contagem de suporte para os conjuntos de itens frequentes\n",
        "  supp_count_L.update({k: sup})\n",
        "  # Verifica se não há mais conjuntos de itens frequentes de tamanho k, o que indica convergência\n",
        "  if len(L[k]) == 0:\n",
        "    convergence = True\n",
        "  else:\n",
        "    # Caso ainda haja conjuntos de itens frequentes, imprime a tabela L de tamanho k\n",
        "    print(\"Tabela L{}: \\n\".format(k))\n",
        "    print_table(L[k], supp_count_L[k])\n",
        "  # Incrementa o tamanho do conjunto de itens\n",
        "  k += 1\n"
      ],
      "metadata": {
        "colab": {
          "base_uri": "https://localhost:8080/"
        },
        "id": "XbFkPGmVGF41",
        "outputId": "6dc4adb0-96d5-4e11-fbd2-d6f69ab7f000"
      },
      "execution_count": 158,
      "outputs": [
        {
          "output_type": "stream",
          "name": "stdout",
          "text": [
            "Table C2: \n",
            "\n",
            "Itemset | Frequency\n",
            "['I1', 'I2'] : 4\n",
            "['I1', 'I3'] : 4\n",
            "['I1', 'I4'] : 1\n",
            "['I1', 'I5'] : 2\n",
            "['I2', 'I3'] : 4\n",
            "['I2', 'I4'] : 2\n",
            "['I2', 'I5'] : 2\n",
            "['I3', 'I4'] : 0\n",
            "['I3', 'I5'] : 1\n",
            "['I4', 'I5'] : 0\n",
            "\n",
            "\n",
            "\n",
            "Table L2: \n",
            "\n",
            "Itemset | Frequency\n",
            "['I1', 'I2'] : 4\n",
            "['I1', 'I3'] : 4\n",
            "['I1', 'I5'] : 2\n",
            "['I2', 'I3'] : 4\n",
            "['I2', 'I4'] : 2\n",
            "['I2', 'I5'] : 2\n",
            "\n",
            "\n",
            "\n",
            "Table C3: \n",
            "\n",
            "Itemset | Frequency\n",
            "['I1', 'I2', 'I3'] : 2\n",
            "['I1', 'I2', 'I5'] : 2\n",
            "['I1', 'I3', 'I5'] : 1\n",
            "['I2', 'I3', 'I4'] : 0\n",
            "['I2', 'I3', 'I5'] : 1\n",
            "['I2', 'I4', 'I5'] : 0\n",
            "\n",
            "\n",
            "\n",
            "Table L3: \n",
            "\n",
            "Itemset | Frequency\n",
            "['I1', 'I2', 'I3'] : 2\n",
            "['I1', 'I2', 'I5'] : 2\n",
            "\n",
            "\n",
            "\n",
            "Table C4: \n",
            "\n",
            "Itemset | Frequency\n",
            "['I1', 'I2', 'I3', 'I5'] : 1\n",
            "\n",
            "\n",
            "\n"
          ]
        }
      ]
    },
    {
      "cell_type": "code",
      "source": [
        "from itertools import combinations, chain\n",
        "\n",
        "def powerset(s):\n",
        "  return list(chain.from_iterable(combinations(s, r) for r in range(1, len(s)+1)))"
      ],
      "metadata": {
        "id": "kFxnu8LkVHJa"
      },
      "execution_count": 163,
      "outputs": []
    },
    {
      "cell_type": "code",
      "source": [
        "def write_rules(X, X_S, S, conf, supp, lift, num_trans):\n",
        "  out_rules = \"\"\n",
        "  out_rules += \"Freq. Itemset: {}\\n\".format(X)\n",
        "  out_rules += \"   Rule: {} -> {} \\n\".format(list(S), list(X_S))\n",
        "  out_rules += \"   Conf: {0:2.3f} \".format(conf)\n",
        "  out_rules += \"   Supp: {0:2.3f} \".format(supp/ num_trans)\n",
        "  out_rules += \"   Lift: {0:2.3f} \".format(lift)\n",
        "  return out_rules"
      ],
      "metadata": {
        "id": "VZ16LoA3Vq3x"
      },
      "execution_count": 160,
      "outputs": []
    },
    {
      "cell_type": "code",
      "source": [
        "assoc_rules_str = \"\"\n",
        "# Itera sobre todos os níveis de conjuntos de itens frequentes, exceto o nível 0\n",
        "for i in range(1, len(L)):\n",
        "  for j in range(len(L[i])):\n",
        "    # Gera todos os subconjuntos possíveis do conjunto de itens frequentes\n",
        "    s = list(powerset(L[i][j]))\n",
        "    # Remove o próprio conjunto para evitar regras inválidas\n",
        "    s.pop()\n",
        "    for z in s:\n",
        "      S = set(z)\n",
        "      X = set(L[i][j])\n",
        "      X_S = set(X-S)\n",
        "      # Calcula o suporte do conjunto X\n",
        "      sup_x = count_occurences(X, Transactions)\n",
        "      # Calcula o suporte do conjunto X-S\n",
        "      sup_x_s = count_occurences(X_S, Transactions)\n",
        "      # Calcula a confiança da regra\n",
        "      conf = sup_x/count_occurences(S, Transactions)\n",
        "      # Calcula o lift da regra\n",
        "      lift = conf/(sup_x_s / num_trans)\n",
        "      # Verifica se a regra atende os critérios mínimos de confiança e suporte\n",
        "      if conf >= min_conf and sup_x >= min_support:\n",
        "        # Escreve a regra e adiciona à string de regras de associação\n",
        "        assoc_rules_str += write_rules(X, X_S, S, conf, sup_x, lift, num_trans)\n"
      ],
      "metadata": {
        "id": "Ez0FsME_O8JO"
      },
      "execution_count": 167,
      "outputs": []
    },
    {
      "cell_type": "code",
      "source": [
        "print(assoc_rules_str)"
      ],
      "metadata": {
        "colab": {
          "base_uri": "https://localhost:8080/"
        },
        "id": "X1NWv5ojXNe6",
        "outputId": "b84d8ca9-4350-40d6-ff0e-5c9455430e4a"
      },
      "execution_count": 165,
      "outputs": [
        {
          "output_type": "stream",
          "name": "stdout",
          "text": [
            "Freq. Itemset: {'I2', 'I1'}\n",
            "   Rule: ['I1'] -> ['I2'] \n",
            "   Conf: 0.667    Supp: 0.444    Lift: 0.857 Freq. Itemset: {'I2', 'I1'}\n",
            "   Rule: ['I2'] -> ['I1'] \n",
            "   Conf: 0.571    Supp: 0.444    Lift: 0.857 Freq. Itemset: {'I3', 'I1'}\n",
            "   Rule: ['I1'] -> ['I3'] \n",
            "   Conf: 0.667    Supp: 0.444    Lift: 1.000 Freq. Itemset: {'I3', 'I1'}\n",
            "   Rule: ['I3'] -> ['I1'] \n",
            "   Conf: 0.667    Supp: 0.444    Lift: 1.000 Freq. Itemset: {'I5', 'I1'}\n",
            "   Rule: ['I1'] -> ['I5'] \n",
            "   Conf: 0.333    Supp: 0.222    Lift: 1.500 Freq. Itemset: {'I5', 'I1'}\n",
            "   Rule: ['I5'] -> ['I1'] \n",
            "   Conf: 1.000    Supp: 0.222    Lift: 1.500 Freq. Itemset: {'I2', 'I3'}\n",
            "   Rule: ['I2'] -> ['I3'] \n",
            "   Conf: 0.571    Supp: 0.444    Lift: 0.857 Freq. Itemset: {'I2', 'I3'}\n",
            "   Rule: ['I3'] -> ['I2'] \n",
            "   Conf: 0.667    Supp: 0.444    Lift: 0.857 Freq. Itemset: {'I2', 'I4'}\n",
            "   Rule: ['I4'] -> ['I2'] \n",
            "   Conf: 1.000    Supp: 0.222    Lift: 1.286 Freq. Itemset: {'I2', 'I5'}\n",
            "   Rule: ['I5'] -> ['I2'] \n",
            "   Conf: 1.000    Supp: 0.222    Lift: 1.286 Freq. Itemset: {'I2', 'I3', 'I1'}\n",
            "   Rule: ['I1'] -> ['I2', 'I3'] \n",
            "   Conf: 0.333    Supp: 0.222    Lift: 0.750 Freq. Itemset: {'I2', 'I3', 'I1'}\n",
            "   Rule: ['I3'] -> ['I2', 'I1'] \n",
            "   Conf: 0.333    Supp: 0.222    Lift: 0.750 Freq. Itemset: {'I2', 'I3', 'I1'}\n",
            "   Rule: ['I2', 'I1'] -> ['I3'] \n",
            "   Conf: 0.500    Supp: 0.222    Lift: 0.750 Freq. Itemset: {'I2', 'I3', 'I1'}\n",
            "   Rule: ['I3', 'I1'] -> ['I2'] \n",
            "   Conf: 0.500    Supp: 0.222    Lift: 0.643 Freq. Itemset: {'I2', 'I3', 'I1'}\n",
            "   Rule: ['I2', 'I3'] -> ['I1'] \n",
            "   Conf: 0.500    Supp: 0.222    Lift: 0.750 Freq. Itemset: {'I5', 'I2', 'I1'}\n",
            "   Rule: ['I1'] -> ['I2', 'I5'] \n",
            "   Conf: 0.333    Supp: 0.222    Lift: 1.500 Freq. Itemset: {'I5', 'I2', 'I1'}\n",
            "   Rule: ['I5'] -> ['I2', 'I1'] \n",
            "   Conf: 1.000    Supp: 0.222    Lift: 2.250 Freq. Itemset: {'I5', 'I2', 'I1'}\n",
            "   Rule: ['I2', 'I1'] -> ['I5'] \n",
            "   Conf: 0.500    Supp: 0.222    Lift: 2.250 Freq. Itemset: {'I5', 'I2', 'I1'}\n",
            "   Rule: ['I5', 'I1'] -> ['I2'] \n",
            "   Conf: 1.000    Supp: 0.222    Lift: 1.286 Freq. Itemset: {'I5', 'I2', 'I1'}\n",
            "   Rule: ['I2', 'I5'] -> ['I1'] \n",
            "   Conf: 1.000    Supp: 0.222    Lift: 1.500 \n"
          ]
        }
      ]
    },
    {
      "cell_type": "code",
      "source": [],
      "metadata": {
        "id": "afX17tMTXZCv"
      },
      "execution_count": null,
      "outputs": []
    }
  ]
}